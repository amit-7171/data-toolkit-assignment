{
  "nbformat": 4,
  "nbformat_minor": 0,
  "metadata": {
    "colab": {
      "provenance": []
    },
    "kernelspec": {
      "name": "python3",
      "display_name": "Python 3"
    },
    "language_info": {
      "name": "python"
    }
  },
  "cells": [
    {
      "cell_type": "markdown",
      "source": [
        "Data Toolkit Question\n"
      ],
      "metadata": {
        "id": "kgA4ZGXDIKrk"
      }
    },
    {
      "cell_type": "markdown",
      "source": [
        "Question1- What is NumPy, and why is it widely used in Python?    \n",
        "         NumPy, short for Numerical Python, is a fundamental open-source library for scientific computing in Python. It provides powerful tools for working with large, multi-dimensional arrays and matrices, along with a vast collection of high-level mathematical functions to operate on these arrays.  \n",
        "\n",
        "Question2- How does broadcasting work in NumPy?  \n",
        "        NumPy broadcasting is a powerful mechanism that allows NumPy to perform arithmetic operations on arrays of different shapes and sizes without explicitly making copies of data. It's a way to \"stretch\" or \"replicate\" the smaller array's dimensions to match the larger array's dimensions, making element-wise operations possible. This is incredibly efficient because it avoids unnecessary memory allocation for the \"stretched\" copies.  \n",
        "\n",
        "Question3- What is a Pandas DataFrame?  \n",
        "          A Pandas DataFrame is the most widely used and fundamental data structure in the Pandas library for Python. It's essentially a two-dimensional, tabular data structure with labeled rows and columns.  \n",
        "\n",
        "Question4-  Explain the use of the groupby() method in Pandas.  \n",
        "          The groupby() method in Pandas is an incredibly powerful and fundamental operation for splitting data into groups based on some criteria, applying a function to each group independently, and then combining the results back into a single DataFrame or Series. This three-step process is often referred to as \"Split-Apply-Combine.\"  \n",
        "\n",
        "Question5-  Why is Seaborn preferred for statistical visualizations?  \n",
        "         Seaborn is a Python data visualization library that is built on top of Matplotlib and closely integrated with Pandas. While Matplotlib provides a robust foundation for creating various plots, Seaborn is specifically preferred for statistical visualizations due to several key advantages:\n",
        "\n",
        "High-Level Interface for Statistical Graphics:\n",
        "\n",
        "Simplicity and Conciseness: Seaborn provides a high-level API, meaning you can create complex statistical plots with significantly less code compared to Matplotlib. This allows data scientists to focus more on the insights and less on the intricate details of plotting. For example, creating a well-formatted box plot or a regression plot often takes just one or two lines of code in Seaborn.\n",
        "\n",
        "Focus on Statistical Relationships: Its functions are specifically designed to visualize statistical relationships, distributions, and categorical data. It \"understands\" common statistical plotting needs.\n",
        "\n",
        "Built-in Statistical Estimations:\n",
        "\n",
        "Many Seaborn functions automatically calculate and display statistical estimates (e.g., means, confidence intervals, regression lines) directly on the plots. This saves a lot of manual calculation and plotting steps. For instance, sns.regplot() automatically draws a regression line and its confidence interval on a scatter plot.\n",
        "\n",
        "It often uses bootstrapping to compute confidence intervals, providing robust uncertainty estimates.\n",
        "\n",
        "Aesthetically Pleasing Defaults and Themes:\n",
        "\n",
        "Seaborn comes with beautiful, professional-looking default styles and color palettes right out of the box. This means you don't have to spend a lot of time tweaking parameters to make your plots look good, which is often necessary with raw Matplotlib.\n",
        "\n",
        "It offers various built-in themes (darkgrid, whitegrid, dark, white, ticks) that can be easily applied to change the overall look and feel of your plots consistently.\n",
        "\n",
        "Seamless Integration with Pandas DataFrames:\n",
        "\n",
        "Seaborn is designed to work intuitively with Pandas DataFrames. You can directly pass DataFrame columns as x, y, hue, size, etc., arguments to Seaborn functions, and it automatically handles the data mapping and labeling. This simplifies the workflow for anyone doing data analysis with Pandas.\n",
        "\n",
        "It understands how to use column names for labels and legends, making your plots more informative with minimal effort.\n",
        "\n",
        "Specialized Plot Types for Statistical Analysis:\n",
        "\n",
        "Seaborn offers a rich variety of specialized plot types that are crucial for statistical exploration and communication, which are either more complex or not directly available in Matplotlib's high-level functions:\n",
        "\n",
        "Distribution Plots: histplot, kdeplot, distplot, jointplot, pairplot (for visualizing distributions of single variables and relationships between pairs of variables).  \n",
        "\n",
        "Question6- What are the differences between NumPy arrays and Python lists?  \n",
        "         Let's break down the key differences between NumPy arrays and standard Python lists. While both can store collections of data, their underlying structure, performance characteristics, and primary use cases vary significantly, making them suitable for different tasks.\n",
        "\n",
        "Here's a detailed comparison:\n",
        "\n",
        "Feature\tNumPy Array (ndarray)\tPython List\n",
        "Data Type\tHomogeneous: All elements must be of the same data type (e.g., all integers, all floats, all strings). This is crucial for performance.\tHeterogeneous: Can store elements of different data types within the same list (e.g., [1, 'hello', 3.14, True]).\n",
        "Storage\tContiguous Memory Block: Elements are stored next to each other in memory. This allows for efficient access and processing.\tDispersed Memory: Stores references to objects, which can be scattered throughout memory.\n",
        "Performance\tMuch Faster: Highly optimized for numerical operations. Core operations are implemented in C/Fortran.\tSlower for Numerical Ops: General-purpose; operations on large numerical datasets are slower due to type checking and scattered memory.\n",
        "Memory Usage\tMore Memory Efficient: Especially for large numerical datasets, due to homogeneous data types and contiguous storage.\tLess Memory Efficient: Each element is a full Python object, incurring overhead (reference count, type info, etc.).\n",
        "Functionality\tNumerical Operations: Provides a vast array of mathematical functions (linear algebra, Fourier transforms, random numbers, etc.) that operate element-wise or on the entire array.\tGeneral-Purpose Operations: Supports list-specific operations like append(), insert(), pop(), sort(), extend(), etc.\n",
        "Size Mutability\tFixed Size: Once created, the size of a NumPy array cannot be directly changed. Resizing creates a new array.\tDynamic Size: Easily mutable; elements can be added, removed, or inserted anywhere.\n",
        "Operations\tVectorized Operations: Operations apply element-wise by default without explicit loops (e.g., arr1 + arr2). This is called broadcasting.\tElement-wise operations require loops: You typically need for loops or list comprehensions for element-wise arithmetic. list1 + list2 concatenates, it doesn't add element-wise.\n",
        "Usage Context\tScientific Computing, Data Analysis, Machine Learning: The backbone of libraries like Pandas, SciPy, Scikit-learn, TensorFlow, PyTorch.\tGeneral-Purpose Programming: Used for storing collections of diverse items, building sequences, stacks, queues, etc.\n",
        "Creation\tnumpy.array([1, 2, 3]), numpy.zeros(), numpy.ones(), numpy.arange(), etc.\t[1, 2, 3], list(), [x for x in range(5)], etc.   \n",
        "\n",
        "Question7- What is a heatmap, and when should it be used?  \n",
        "         A heatmap is a graphical representation of data where the individual values within a matrix are represented as colors. It's a powerful visualization technique that allows you to quickly identify patterns, correlations, and anomalies in large datasets by leveraging the human eye's ability to discern color variations.   \n",
        "\n",
        "Question8- What does the term “vectorized operation” mean in NumPy?  \n",
        "        In NumPy, \"vectorized operation\" refers to performing operations on entire arrays (or parts of arrays) at once, without the need for explicit Python for loops. Instead of iterating through elements one by one in Python, these operations are executed efficiently by highly optimized, pre-compiled code (often written in C or Fortran) that underlies NumPy.  \n",
        "\n",
        "Question9- How does Matplotlib differ from Plotly?  \n",
        "          Matplotlib and Plotly are both powerful Python libraries for data visualization, but they cater to different needs and philosophies, particularly regarding interactivity and output format. Here's a breakdown of their key differences:\n",
        "\n",
        "1. Interactivity:\n",
        "Matplotlib: Primarily designed for static, publication-quality plots. While it has some basic interactive features (like zooming and panning in an interactive backend), its core strength lies in generating fixed images suitable for reports, papers, and presentations. Achieving highly customized interactivity often requires more complex coding or integrating with other frameworks.\n",
        "\n",
        "Plotly: Excels at creating interactive, web-based visualizations. Plots created with Plotly are interactive by default, allowing users to hover over data points for details, zoom, pan, toggle data series, and even embed custom buttons or sliders. This interactivity is powered by JavaScript (Plotly.js) and makes it ideal for exploratory data analysis, dashboards, and web applications.\n",
        "\n",
        "\n",
        "\n",
        "2. Control and Customization:\n",
        "Matplotlib: Offers extremely fine-grained control over every single element of a plot. It's a low-level library, meaning you build plots from the ground up, manipulating figures, axes, lines, text, etc., individually. This gives unparalleled flexibility for highly customized or niche visualizations, but it can also be more verbose and require more code for complex plots. It's often preferred by academics or those with very specific aesthetic requirements.\n",
        "\n",
        "\n",
        "Plotly: Provides a higher-level API, especially with plotly.express (a simpler wrapper around plotly.graph_objects). It prioritizes ease of use and quick generation of complex plots. While it offers extensive customization options through its declarative JSON structure, achieving the same level of absolute granular control as Matplotlib might sometimes involve more learning or might not be as straightforward for every minute detail.\n",
        "\n",
        "3. Aesthetics and Defaults:\n",
        "Matplotlib: Its default plots are often described as functional but can appear somewhat \"academic\" or \"plain\" out of the box. Users frequently need to apply custom styling (colors, fonts, sizes, etc.) to make plots aesthetically pleasing for presentations or reports.\n",
        "\n",
        "Plotly: Generally produces modern, aesthetically pleasing plots with good default styles and color schemes. The interactive features also enhance the visual appeal and user experience immediately.\n",
        "\n",
        "4. Integration and Ecosystem:\n",
        "Matplotlib: Is the foundation for many other Python visualization libraries, including Seaborn and the .plot() method in Pandas. Learning Matplotlib provides a strong base for understanding these higher-level tools. It integrates well with NumPy for data handling.\n",
        "\n",
        "\n",
        "Plotly: While it also integrates well with Pandas and NumPy, its primary strength in terms of ecosystem integration lies in its web capabilities. It's the core of Dash, a popular Python framework for building interactive analytical web applications and dashboards entirely in Python.\n",
        "\n",
        "5. Output Format:\n",
        "Matplotlib: Primarily generates static image files (PNG, JPEG, PDF, SVG) suitable for print, reports, and traditional presentations.\n",
        "\n",
        "Plotly: Generates HTML-based plots by default, which can be easily embedded in web pages, Jupyter notebooks, or exported as standalone HTML files. These files retain all the interactivity. It can also export static images, but its strength is in interactive web output.\n",
        "\n",
        "\n",
        "6. Learning Curve:\n",
        "Matplotlib: Can have a steeper learning curve for complex plots due to its object-oriented API and the need to manage figures, axes, and various plot elements explicitly. However, basic plots are straightforward.\n",
        "\n",
        "Plotly: plotly.express makes it very easy to get started with a wide range of common interactive plots with minimal code. Diving into the lower-level plotly.graph_objects provides more control but has its own learning curve.   \n",
        "\n",
        "Question10- What is the significance of hierarchical indexing in Pandas?  \n",
        "          Hierarchical indexing, also known as MultiIndex, is a powerful and crucial feature in Pandas that allows you to have multiple levels of indexing on a single axis (rows or columns) of a Series or DataFrame.\n",
        "\n",
        "Its significance stems from its ability to:\n",
        "\n",
        "Represent and Analyze Higher-Dimensional Data in 1D/2D Structures:\n",
        "\n",
        "Pandas Series are 1D, and DataFrames are 2D. But real-world data often has more than two dimensions (e.g., sales data broken down by year, region, product, and customer type).\n",
        "\n",
        "Hierarchical indexing allows you to \"compress\" or \"flatten\" these higher dimensions into the familiar 1D (Series) or 2D (DataFrame) structures by creating multiple \"levels\" in the index. Each unique combination of levels in the index effectively defines a unique \"slice\" of your multi-dimensional data.\n",
        "\n",
        "Significance: It allows you to work with complex, multi-faceted data within the efficient and flexible DataFrame/Series framework, rather than needing more complex (and less common) multi-dimensional arrays or custom data structures.\n",
        "\n",
        "Intuitive Data Organization and Structure:\n",
        "\n",
        "It provides a natural and logical way to organize and view data that has inherent hierarchical relationships. For example, sales data might be logically structured by Region -> City -> Product. A MultiIndex allows you to explicitly represent this structure.\n",
        "\n",
        "Significance: It makes the data more understandable and easier to navigate, especially for humans reviewing the data or for anyone trying to understand the data's inherent groupings.   \n",
        "\n",
        "Question11- What is the role of Seaborn’s pairplot() function?  \n",
        "          Seaborn's pairplot() function plays a crucial role in exploratory data analysis (EDA), particularly when you want to understand the relationships between multiple numerical variables in a dataset. It's a powerful tool for generating a scatterplot matrix, which is essentially a grid of plots that provides a comprehensive overview of your data's distributions and inter-variable relationships.  \n",
        "\n",
        "Question12- What is the purpose of the describe() function in Pandas?  \n",
        "          The describe() function in Pandas is a highly useful and frequently used method for generating descriptive statistics of a DataFrame or Series. Its primary purpose is to provide a quick and convenient summary of the central tendency, dispersion, and shape of the distribution of a dataset's numerical columns (and sometimes categorical ones, with specific parameter).  \n",
        "\n",
        "Question13- Why is handling missing data important in Pandas?  \n",
        "          Handling missing data is absolutely critical in Pandas (and indeed, in any data analysis or machine learning workflow) for several fundamental reasons:\n",
        "\n",
        "Ensuring Data Integrity and Accuracy:\n",
        "\n",
        "Missing values (NaN, None, NaT for dates) are not actual data points, but rather indicators that information is absent or unknown. If you don't address them, any calculations (means, sums, standard deviations, correlations) will be inaccurate or misleading.\n",
        "\n",
        "Example: Calculating the average sales. If some sales figures are missing, including them as zeros (which fillna(0) would do) or simply ignoring them without proper handling, will skew your average.\n",
        "\n",
        "Significance: Unhandled missing data leads to flawed insights, incorrect decisions, and unreliable models.\n",
        "\n",
        "Preventing Errors and Crashes in Operations:\n",
        "\n",
        "Many Pandas operations and functions are designed to handle missing values gracefully (e.g., sum() by default skips NaNs). However, some operations or functions in other libraries (like scikit-learn or even certain NumPy functions) might not handle NaNs automatically and will raise errors or produce unexpected results if missing values are present.\n",
        "\n",
        "Example: Passing a DataFrame with NaNs directly to a machine learning model's fit() method will almost always result in an error, as most algorithms cannot directly process NaNs.\n",
        "\n",
        "Significance: Proper handling prevents frustrating runtime errors and ensures your code runs smoothly.\n",
        "\n",
        "Maintaining Statistical Validity:\n",
        "\n",
        "The presence of missing data can introduce bias into your analysis. If data is not missing completely at random (MCAR), but rather missing at random (MAR) or missing not at random (MNAR), it can systematically distort your results.\n",
        "\n",
        "Example: If higher-income individuals are less likely to report their income, simply dropping missing income values would lead to an underestimation of average income in the population.\n",
        "\n",
        "Significance: Choosing the right missing data strategy helps preserve the statistical validity of your inferences and conclusions.\n",
        "\n",
        "Preparing Data for Machine Learning Models:\n",
        "\n",
        "This is one of the most practical and immediate reasons. Almost all machine learning algorithms cannot directly work with missing values. They expect complete, numerical input.\n",
        "\n",
        "Example: A LinearRegression model from scikit-learn will raise an error if any of the features (X) or the target (y) contain NaNs.\n",
        "\n",
        "Significance: Missing data handling is a mandatory preprocessing step for almost every machine learning pipeline.\n",
        "\n",
        "Optimizing Memory Usage and Performance (Indirectly):\n",
        "\n",
        "While Pandas uses special internal representations for NaNs (especially for floating-point numbers), sometimes explicitly filling or removing them can simplify the data structure or make certain operations more straightforward and potentially faster if the presence of NaNs otherwise complicates indexing or specific computations.\n",
        "\n",
        "Common Strategies for Handling Missing Data:\n",
        "Pandas provides excellent tools for this:\n",
        "\n",
        "Identification:\n",
        "\n",
        "df.isnull() or df.isna(): Returns a boolean DataFrame indicating where values are missing.\n",
        "\n",
        "df.notnull() or df.notna(): Returns a boolean DataFrame indicating where values are not missing.\n",
        "\n",
        "df.isnull().sum(): Counts missing values per column.\n",
        "\n",
        "df.isnull().sum().sum(): Counts total missing values in the DataFrame.\n",
        "\n",
        "Removal:\n",
        "\n",
        "df.dropna(): Removes rows or columns containing missing values. This is simple but can lead to significant data loss if many values are missing.\n",
        "\n",
        "axis=0 (default): drops rows.\n",
        "\n",
        "axis=1: drops columns.\n",
        "\n",
        "how='any' (default): drops if any NaN is present.\n",
        "\n",
        "how='all': drops if all values are NaN.\n",
        "\n",
        "thresh=N: requires N non-NaN values for a row/column to be kept.\n",
        "\n",
        "Imputation (Filling):\n",
        "\n",
        "df.fillna(value): Fills missing values with a specified value.\n",
        "\n",
        "df.fillna(0): Fill with zero.\n",
        "\n",
        "df.fillna(df['column_name'].mean()): Fill with the mean of the column (common for numerical data).\n",
        "\n",
        "df.fillna(df['column_name'].median()): Fill with the median (robust to outliers).\n",
        "\n",
        "df.fillna(df['column_name'].mode()[0]): Fill with the mode (common for categorical data).\n",
        "\n",
        "method='ffill' or method='pad': Forward fill (propagates the last valid observation forward).\n",
        "\n",
        "method='bfill' or method='backfill': Backward fill (propagates the next valid observation backward).\n",
        "\n",
        "df.interpolate(): Fills missing values using various interpolation methods (e.g., linear, polynomial), especially useful for time series data.   \n",
        "\n",
        "Question14-  What are the benefits of using Plotly for data visualization?  \n",
        "          Plotly has become an increasingly popular choice for data visualization in Python, offering a distinct set of benefits, especially compared to more traditional libraries like Matplotlib. Here are the key advantages of using Plotly:\n",
        "\n",
        "Exceptional Interactivity by Default:\n",
        "\n",
        "Zooming, Panning, Hovering: Plotly charts are inherently interactive. Users can zoom in, pan across, and hover over data points to reveal specific values or additional information without writing extra code. This feature is invaluable for exploring complex datasets and uncovering hidden patterns.\n",
        "\n",
        "Toggle Data Series: In many Plotly charts, users can click on legend items to hide or show individual data series, allowing for dynamic comparison and focus.\n",
        "\n",
        "Custom Controls: Plotly allows for the integration of custom interactive elements like dropdowns, sliders, and buttons, enabling users to filter, slice, or transform the data directly within the visualization.\n",
        "\n",
        "Benefit: This interactivity transforms static charts into dynamic analytical tools, significantly enhancing data exploration and engagement for both the creator and the audience.\n",
        "\n",
        "Web-Based and Shareable Output:\n",
        "\n",
        "Plotly generates visualizations in HTML and JavaScript (Plotly.js). This means the plots are natively web-ready and can be easily embedded into:\n",
        "\n",
        "Jupyter Notebooks (where they display live interactivity)\n",
        "\n",
        "Web applications (using frameworks like Dash, Streamlit, Flask, Django)\n",
        "\n",
        "HTML files (as standalone, interactive web pages)\n",
        "\n",
        "Blogs and websites\n",
        "\n",
        "Benefit: This makes sharing and deployment of interactive visualizations incredibly straightforward, eliminating the need for viewers to have specific software or libraries installed.\n",
        "\n",
        "Aesthetically Pleasing and Modern Defaults:\n",
        "\n",
        "Out of the box, Plotly produces visually appealing and modern-looking charts with clean designs and thoughtful color palettes.\n",
        "\n",
        "Benefit: This saves considerable time and effort that would otherwise be spent on styling and fine-tuning plots to achieve a professional look, which is often necessary with Matplotlib.\n",
        "\n",
        "High-Level API for Ease of Use (plotly.express):\n",
        "\n",
        "Plotly offers plotly.express (often imported as px), a high-level wrapper that simplifies the creation of complex plots with minimal code. For many common plot types, you can generate an interactive chart in just one or two lines.\n",
        "\n",
        "Benefit: This dramatically lowers the barrier to entry for beginners and accelerates the prototyping and visualization process for experienced users.  \n",
        "\n",
        "Question15- How does NumPy handle multidimensional arrays?  \n",
        "          NumPy's core strength lies in its efficient handling of multidimensional arrays, which are the fundamental data structure in scientific computing. It achieves this efficiency through a clever combination of design choices:\n",
        "\n",
        "The ndarray Object:\n",
        "\n",
        "The ndarray (N-dimensional array) is the central object in NumPy. It's a homogenous container, meaning all elements in an ndarray must be of the same data type (e.g., all integers, all floats). This homogeneity is crucial for performance.\n",
        "\n",
        "Unlike Python lists (which store pointers to individual objects that can be of different types), ndarray stores the actual data elements contiguously in a single block of memory. This contiguous memory layout is a major factor in NumPy's speed.\n",
        "\n",
        "Contiguous Memory Allocation:\n",
        "\n",
        "When you create a NumPy array, even if it's multidimensional, the data is typically stored as a flat, one-dimensional block of memory.\n",
        "\n",
        "Benefit: This contiguous storage allows for highly efficient access to elements because the CPU's cache can load large chunks of data at once, minimizing memory access latency. This is a key reason why vectorized operations in NumPy are so much faster than Python loops.\n",
        "\n",
        "Shape and Dimensions (.shape, .ndim):\n",
        "\n",
        "While the data is stored linearly, NumPy \"interprets\" this 1D block as a multidimensional array using its shape and strides attributes.\n",
        "\n",
        "shape: A tuple of integers indicating the size of the array along each dimension (axis). For example, a 2D array (matrix) of size 3 rows and 4 columns would have shape = (3, 4). A 3D array (tensor) might have shape = (2, 3, 4).\n",
        "\n",
        "ndim: The number of dimensions (axes) of the array.\n",
        "\n",
        "Benefit: The shape allows you to conceptualize and interact with the data as a grid, matrix, or higher-order tensor, even though its underlying memory representation is flat.\n",
        "\n",
        "Strides (.strides):\n",
        "\n",
        "This is one of the most important concepts for understanding how NumPy maps a multidimensional view onto a 1D memory block.\n",
        "\n",
        "strides is a tuple of integers, where each integer indicates the number of bytes you need to skip in memory to get to the next element along that particular dimension (axis).\n",
        "\n",
        "Example: For a 2D array arr with dtype=np.int64 (8 bytes per element) and shape=(3, 4):  \n",
        "\n",
        "Question16- What is the role of Bokeh in data visualization?   \n",
        "          Bokeh is a Python library specifically designed for creating interactive visualizations for modern web browsers. Its role in data visualization is to bridge the gap between Python's powerful data analysis capabilities and the dynamic, rich experience of web-based graphics.   \n",
        "\n",
        "Question17-  Explain the difference between apply() and map() in Pandas.  \n",
        "          In Pandas, apply() and map() (along with applymap()) are methods used to apply a function or transformation to your data. While they can sometimes seem similar, they have distinct use cases and scopes of application, which is crucial for efficient and correct data manipulation.   \n",
        "\n",
        "Question18- What are some advanced features of NumPy?  \n",
        "          NumPy's power extends far beyond basic array creation and arithmetic. Its advanced features are what truly enable high-performance scientific computing, machine learning, and complex data manipulation in Python. Here are some of the most significant:\n",
        "\n",
        "Advanced Indexing and Slicing:\n",
        "\n",
        "Fancy Indexing (Integer Array Indexing): Instead of using single integers or slices, you can pass an array or list of integers to select elements at arbitrary, non-contiguous positions. This is incredibly powerful for reordering, selecting specific rows/columns, or creating subsets based on complex patterns.   \n",
        "\n",
        "Question19- How does Pandas simplify time series analysis?   \n",
        "          Pandas dramatically simplifies time series analysis by providing highly optimized data structures and a rich set of functionalities specifically designed to handle temporal data. Before Pandas, working with dates and times in Python could be cumbersome, often involving manual parsing, datetime object manipulation, and custom logic for time-based operations.   \n",
        "\n",
        "Question20- What is the role of a pivot table in Pandas?  \n",
        "          The pivot_table() function in Pandas is an incredibly powerful tool for summarizing and aggregating data in a cross-tabular (spreadsheet-like) format. Its primary role is to take \"long\" or \"tidy\" data and reshape it into a \"wide\" format that makes it easier to analyze and extract insights from multi-dimensional data.   \n",
        "\n",
        "Question21- Why is NumPy’s array slicing faster than Python’s list slicing?  \n",
        "          NumPy's array slicing is significantly faster than Python's list slicing primarily due to fundamental differences in how NumPy arrays and Python lists store and manage data in memory.\n",
        "\n",
        "Let's break down the key reasons:\n",
        "\n",
        "Contiguous Memory Allocation (NumPy Arrays):\n",
        "\n",
        "NumPy Arrays (ndarray): When you create a NumPy array, its elements are stored in a single, contiguous block of memory. This means all the data points are laid out one after another, sequentially.\n",
        "\n",
        "Impact on Slicing: When you request a slice, NumPy knows exactly where the starting element is and how many bytes to skip to get to the next element (this is determined by the dtype and strides). It can then quickly calculate the memory addresses for the entire slice. Since the data is already together, accessing it sequentially is very fast.\n",
        "\n",
        "\"Views\": Crucially, for many slicing operations (especially simple slices like arr[start:end]), NumPy doesn't create a copy of the data. Instead, it creates a view – a new array object that points to the same underlying data in memory but with different shape and strides attributes. This avoids the overhead of memory allocation and data copying.   \n",
        "\n",
        "Question22-  What are some common use cases for Seaborn?  \n",
        "          Seaborn is a high-level Python data visualization library built on top of Matplotlib. Its primary role is to create aesthetically pleasing and informative statistical graphics with less code, making it a favorite for data exploration and presentation in data science, machine learning, and statistical analysis.\n",
        "\n",
        "\n",
        "Here are some common use cases for Seaborn:\n",
        "\n",
        "Exploratory Data Analysis (EDA):\n",
        "\n",
        "Understanding Distributions:\n",
        "\n",
        "histplot() and kdeplot(): Visualizing the distribution of a single numerical variable (histograms, kernel density estimates). This helps understand the shape, spread, and central tendency of your data.\n",
        "\n",
        "\n",
        "boxplot() and violinplot(): Comparing the distribution of a numerical variable across different categories. Excellent for identifying differences in central tendency, spread, and potential outliers between groups.\n",
        "\n",
        "\n",
        "displot(): A figure-level function that can combine histograms, KDEs, and ECDF plots, often with faceting.\n",
        "\n",
        "Visualizing Relationships between Variables:\n",
        "\n",
        "scatterplot(): Examining the relationship between two numerical variables.\n",
        "\n",
        "lineplot(): Showing trends over time or across a continuous variable, often with confidence intervals.\n",
        "\n",
        "pairplot(): Generating a matrix of scatter plots for all pairwise relationships in a DataFrame, along with univariate distributions on the diagonal. Invaluable for quickly getting a holistic view of multivariate relationships.\n",
        "\n",
        "jointplot(): Visualizing the joint distribution of two variables along with their marginal distributions (histograms/KDEs).\n",
        "\n",
        "Categorical Data Visualization:\n",
        "\n",
        "barplot(): Showing the mean (or other aggregate) of a numerical variable for different categories, often with confidence intervals.\n",
        "\n",
        "countplot(): Displaying the number of observations in each category of a categorical variable.\n",
        "\n",
        "stripplot() and swarmplot(): Showing individual data points for categorical variables, helping to visualize spread and density within categories where box plots might hide detail.\n",
        "\n",
        "catplot(): A figure-level function that provides a unified interface to many categorical plots, supporting faceting.  \n",
        "  "
      ],
      "metadata": {
        "id": "YpNX7mRkIXrn"
      }
    },
    {
      "cell_type": "markdown",
      "source": [
        "Practical"
      ],
      "metadata": {
        "id": "IjIMTW5wPxNQ"
      }
    },
    {
      "cell_type": "markdown",
      "source": [
        "Question1- How do you create a 2D NumPy array and calculate the sum of each row?   "
      ],
      "metadata": {
        "id": "omVCCpe5P5JX"
      }
    },
    {
      "cell_type": "code",
      "source": [
        "import numpy as np\n",
        "\n",
        "# 1. Create a 2D NumPy array\n",
        "# You can create a 2D array in several ways:\n",
        "\n",
        "# Method A: From a Python list of lists\n",
        "# Each inner list represents a row.\n",
        "array_2d_a = np.array([\n",
        "    [1, 2, 3, 4],\n",
        "    [5, 6, 7, 8],\n",
        "    [9, 10, 11, 12]\n",
        "])\n",
        "print(\"Array A (from list of lists):\")\n",
        "print(array_2d_a)\n",
        "print(f\"Shape of Array A: {array_2d_a.shape}\\n\")\n",
        "\n",
        "# Method B: Using np.arange() and .reshape()\n",
        "# Create a 1D array and then reshape it into a 2D array.\n",
        "# Ensure the total number of elements matches the new shape (rows * columns).\n",
        "array_2d_b = np.arange(1, 13).reshape(3, 4) # 3 rows, 4 columns\n",
        "print(\"Array B (using arange and reshape):\")\n",
        "print(array_2d_b)\n",
        "print(f\"Shape of Array B: {array_2d_b.shape}\\n\")\n",
        "\n",
        "# Method C: Using np.zeros(), np.ones(), or np.random.rand()\n",
        "# Create an array filled with zeros, ones, or random values with a specified shape.\n",
        "array_2d_c = np.random.rand(2, 3) # 2 rows, 3 columns with random floats\n",
        "print(\"Array C (using random.rand):\")\n",
        "print(array_2d_c)\n",
        "print(f\"Shape of Array C: {array_2d_c.shape}\\n\")\n",
        "\n",
        "# --- Calculating the sum of each row ---\n",
        "# To calculate the sum of each row, you use the .sum() method on the NumPy array\n",
        "# and specify the 'axis' parameter.\n",
        "\n",
        "# For row-wise operations, axis=1.\n",
        "# Think of it as \"summing *across* the columns\" for each row.\n",
        "\n",
        "print(\"--- Calculating Row Sums ---\")\n",
        "\n",
        "# Sum of each row for array_2d_a\n",
        "row_sums_a = array_2d_a.sum(axis=1)\n",
        "print(f\"Row sums for Array A: {row_sums_a}\")\n",
        "# Expected output for Array A: [1+2+3+4, 5+6+7+8, 9+10+11+12] = [10, 26, 42]\n",
        "\n",
        "print(\"-\" * 30)\n",
        "\n",
        "# Sum of each row for array_2d_b\n",
        "row_sums_b = array_2d_b.sum(axis=1)\n",
        "print(f\"Row sums for Array B: {row_sums_b}\")\n",
        "# Expected output for Array B: [1+2+3+4, 5+6+7+8, 9+10+11+12] = [10, 26, 42]\n",
        "\n",
        "print(\"-\" * 30)\n",
        "\n",
        "# Sum of each row for array_2d_c\n",
        "row_sums_c = array_2d_c.sum(axis=1)\n",
        "print(f\"Row sums for Array C: {row_sums_c}\")\n",
        "# Output will vary due to random numbers, but will be a 1D array of 2 sums.\n",
        "\n",
        "# You can also use np.sum() as a standalone function:\n",
        "# np.sum(array_2d_a, axis=1)"
      ],
      "metadata": {
        "colab": {
          "base_uri": "https://localhost:8080/"
        },
        "id": "xdRjz6TdRrpR",
        "outputId": "c1eb9c5d-c843-448b-ffbc-97af30d8e8c7"
      },
      "execution_count": 3,
      "outputs": [
        {
          "output_type": "stream",
          "name": "stdout",
          "text": [
            "Array A (from list of lists):\n",
            "[[ 1  2  3  4]\n",
            " [ 5  6  7  8]\n",
            " [ 9 10 11 12]]\n",
            "Shape of Array A: (3, 4)\n",
            "\n",
            "Array B (using arange and reshape):\n",
            "[[ 1  2  3  4]\n",
            " [ 5  6  7  8]\n",
            " [ 9 10 11 12]]\n",
            "Shape of Array B: (3, 4)\n",
            "\n",
            "Array C (using random.rand):\n",
            "[[0.61682375 0.73376981 0.72435773]\n",
            " [0.59378254 0.38375252 0.84318732]]\n",
            "Shape of Array C: (2, 3)\n",
            "\n",
            "--- Calculating Row Sums ---\n",
            "Row sums for Array A: [10 26 42]\n",
            "------------------------------\n",
            "Row sums for Array B: [10 26 42]\n",
            "------------------------------\n",
            "Row sums for Array C: [2.07495129 1.82072237]\n"
          ]
        }
      ]
    },
    {
      "cell_type": "markdown",
      "source": [
        "Question2- Write a Pandas script to find the mean of a specific column in a DataFrame."
      ],
      "metadata": {
        "id": "ej_jcq09R_Gk"
      }
    },
    {
      "cell_type": "code",
      "source": [
        "import pandas as pd\n",
        "# 1. Create a sample Pandas DataFrame\n",
        "data = {\n",
        "    'Name': ['Alice', 'Bob', 'Charlie', 'David', 'Eve'],\n",
        "    'Age': [25, 30, 35, 28, 32],\n",
        "    'Score': [88, 92, 75, 95, 80],\n",
        "    'City': ['New York', 'Los Angeles', 'Chicago', 'Houston', 'Phoenix']\n",
        "}\n",
        "df = pd.DataFrame(data)\n",
        "\n",
        "print(\"Original DataFrame:\")\n",
        "print(df)\n",
        "print(\"\\n\" + \"=\"*30 + \"\\n\")\n",
        "\n",
        "# 2. Find the mean of a specific numerical column\n",
        "# To do this, you select the column by its name (e.g., 'Age' or 'Score')\n",
        "# and then call the .mean() method on that Series.\n",
        "\n",
        "# Example 1: Mean of the 'Age' column\n",
        "mean_age = df['Age'].mean()\n",
        "print(f\"Mean of the 'Age' column: {mean_age}\")\n",
        "\n",
        "print(\"-\" * 30)\n",
        "\n",
        "# Example 2: Mean of the 'Score' column\n",
        "mean_score = df['Score'].mean()\n",
        "print(f\"Mean of the 'Score' column: {mean_score}\")\n",
        "\n",
        "print(\"-\" * 30)\n",
        "\n",
        "# You can also perform this operation directly when printing or assigning:\n",
        "print(f\"Directly printing mean of 'Age': {df['Age'].mean()}\")\n"
      ],
      "metadata": {
        "colab": {
          "base_uri": "https://localhost:8080/"
        },
        "id": "7ly0rFs3SH_V",
        "outputId": "baa8dded-d098-4aaf-b682-d9814fe0213a"
      },
      "execution_count": 4,
      "outputs": [
        {
          "output_type": "stream",
          "name": "stdout",
          "text": [
            "Original DataFrame:\n",
            "      Name  Age  Score         City\n",
            "0    Alice   25     88     New York\n",
            "1      Bob   30     92  Los Angeles\n",
            "2  Charlie   35     75      Chicago\n",
            "3    David   28     95      Houston\n",
            "4      Eve   32     80      Phoenix\n",
            "\n",
            "==============================\n",
            "\n",
            "Mean of the 'Age' column: 30.0\n",
            "------------------------------\n",
            "Mean of the 'Score' column: 86.0\n",
            "------------------------------\n",
            "Directly printing mean of 'Age': 30.0\n"
          ]
        }
      ]
    },
    {
      "cell_type": "markdown",
      "source": [
        "Question3-Create a scatter plot using Matplotlib."
      ],
      "metadata": {
        "id": "EOGYWb81S0zp"
      }
    },
    {
      "cell_type": "code",
      "source": [
        "import pandas as pd\n",
        "import matplotlib.pyplot as plt # Import Matplotlib\n",
        "\n",
        "# 1. Create a sample Pandas DataFrame\n",
        "data = {\n",
        "    'Name': ['Alice', 'Bob', 'Charlie', 'David', 'Eve'],\n",
        "    'Age': [25, 30, 35, 28, 32],\n",
        "    'Score': [88, 92, 75, 95, 80],\n",
        "    'City': ['New York', 'Los Angeles', 'Chicago', 'Houston', 'Phoenix']\n",
        "}\n",
        "df = pd.DataFrame(data)\n",
        "\n",
        "print(\"Original DataFrame:\")\n",
        "print(df)\n",
        "print(\"\\n\" + \"=\"*30 + \"\\n\")\n",
        "\n",
        "# 2. Find the mean of a specific numerical column\n",
        "# To do this, you select the column by its name (e.g., 'Age' or 'Score')\n",
        "# and then call the .mean() method on that Series.\n",
        "\n",
        "# Example 1: Mean of the 'Age' column\n",
        "mean_age = df['Age'].mean()\n",
        "print(f\"Mean of the 'Age' column: {mean_age}\")\n",
        "\n",
        "print(\"-\" * 30)\n",
        "\n",
        "# Example 2: Mean of the 'Score' column\n",
        "mean_score = df['Score'].mean()\n",
        "print(f\"Mean of the 'Score' column: {mean_score}\")\n",
        "\n",
        "print(\"-\" * 30)\n",
        "\n",
        "# You can also perform this operation directly when printing or assigning:\n",
        "print(f\"Directly printing mean of 'Age': {df['Age'].mean()}\")\n",
        "\n",
        "print(\"\\n\" + \"=\"*30 + \"\\n\")\n",
        "\n",
        "# 3. Create a scatter plot using Matplotlib\n",
        "# We'll plot 'Age' on the x-axis and 'Score' on the y-axis\n",
        "plt.figure(figsize=(8, 6)) # Set the figure size for better readability\n",
        "plt.scatter(df['Age'], df['Score'], color='skyblue', edgecolors='black', s=100, alpha=0.7)\n",
        "plt.title('Age vs. Score Scatter Plot') # Add a title to the plot\n",
        "plt.xlabel('Age') # Label the x-axis\n",
        "plt.ylabel('Score') # Label the y-axis\n",
        "plt.grid(True) # Add a grid for easier reading\n",
        "plt.show() # Display the plot\n"
      ],
      "metadata": {
        "colab": {
          "base_uri": "https://localhost:8080/",
          "height": 876
        },
        "id": "qVemFNmRTBDd",
        "outputId": "66a4f521-e9b5-4b2e-e4a6-c28777a86963"
      },
      "execution_count": 5,
      "outputs": [
        {
          "output_type": "stream",
          "name": "stdout",
          "text": [
            "Original DataFrame:\n",
            "      Name  Age  Score         City\n",
            "0    Alice   25     88     New York\n",
            "1      Bob   30     92  Los Angeles\n",
            "2  Charlie   35     75      Chicago\n",
            "3    David   28     95      Houston\n",
            "4      Eve   32     80      Phoenix\n",
            "\n",
            "==============================\n",
            "\n",
            "Mean of the 'Age' column: 30.0\n",
            "------------------------------\n",
            "Mean of the 'Score' column: 86.0\n",
            "------------------------------\n",
            "Directly printing mean of 'Age': 30.0\n",
            "\n",
            "==============================\n",
            "\n"
          ]
        },
        {
          "output_type": "display_data",
          "data": {
            "text/plain": [
              "<Figure size 800x600 with 1 Axes>"
            ],
            "image/png": "[encoded data removed]"
          },
          "metadata": {}
        }
      ]
    },
    {
      "cell_type": "markdown",
      "source": [
        "Question4-  How do you calculate the correlation matrix using Seaborn and visualize it with a heatmap?"
      ],
      "metadata": {
        "id": "TjXOqS4BTWgd"
      }
    },
    {
      "cell_type": "code",
      "source": [
        "import pandas as pd\n",
        "import matplotlib.pyplot as plt # Import Matplotlib\n",
        "import seaborn as sns # Import Seaborn\n",
        "\n",
        "# 1. Create a sample Pandas DataFrame\n",
        "data = {\n",
        "    'Name': ['Alice', 'Bob', 'Charlie', 'David', 'Eve'],\n",
        "    'Age': [25, 30, 35, 28, 32],\n",
        "    'Score': [88, 92, 75, 95, 80],\n",
        "    'City': ['New York', 'Los Angeles', 'Chicago', 'Houston', 'Phoenix']\n",
        "}\n",
        "df = pd.DataFrame(data)\n",
        "\n",
        "print(\"Original DataFrame:\")\n",
        "print(df)\n",
        "print(\"\\n\" + \"=\"*30 + \"\\n\")\n",
        "\n",
        "# 2. Find the mean of a specific numerical column\n",
        "# To do this, you select the column by its name (e.g., 'Age' or 'Score')\n",
        "# and then call the .mean() method on that Series.\n",
        "\n",
        "# Example 1: Mean of the 'Age' column\n",
        "mean_age = df['Age'].mean()\n",
        "print(f\"Mean of the 'Age' column: {mean_age}\")\n",
        "\n",
        "print(\"-\" * 30)\n",
        "\n",
        "# Example 2: Mean of the 'Score' column\n",
        "mean_score = df['Score'].mean()\n",
        "print(f\"Mean of the 'Score' column: {mean_score}\")\n",
        "\n",
        "print(\"-\" * 30)\n",
        "\n",
        "# You can also perform this operation directly when printing or assigning:\n",
        "print(f\"Directly printing mean of 'Age': {df['Age'].mean()}\")\n",
        "\n",
        "print(\"\\n\" + \"=\"*30 + \"\\n\")\n",
        "\n",
        "# 3. Create a scatter plot using Matplotlib\n",
        "# We'll plot 'Age' on the x-axis and 'Score' on the y-axis\n",
        "plt.figure(figsize=(8, 6)) # Set the figure size for better readability\n",
        "plt.scatter(df['Age'], df['Score'], color='skyblue', edgecolors='black', s=100, alpha=0.7)\n",
        "plt.title('Age vs. Score Scatter Plot') # Add a title to the plot\n",
        "plt.xlabel('Age') # Label the x-axis\n",
        "plt.ylabel('Score') # Label the y-axis\n",
        "plt.grid(True) # Add a grid for easier reading\n",
        "plt.show() # Display the plot\n",
        "\n",
        "print(\"\\n\" + \"=\"*30 + \"\\n\")\n",
        "\n",
        "# 4. Calculate the correlation matrix and visualize it with a Seaborn heatmap\n",
        "\n",
        "# Select only numerical columns for correlation calculation\n",
        "# df.corr() automatically handles only numerical columns, but it's good practice\n",
        "# to be aware of which columns are being used.\n",
        "numerical_df = df[['Age', 'Score']]\n",
        "correlation_matrix = numerical_df.corr()\n",
        "\n",
        "print(\"Correlation Matrix:\")\n",
        "print(correlation_matrix)\n",
        "\n",
        "# Create a heatmap\n",
        "plt.figure(figsize=(7, 6)) # Set the figure size\n",
        "sns.heatmap(correlation_matrix,\n",
        "            annot=True,      # Show the correlation values on the heatmap\n",
        "            cmap='coolwarm', # Colormap (coolwarm is good for correlations, showing positive/negative)\n",
        "            fmt=\".2f\",       # Format the annotation values to two decimal places\n",
        "            linewidths=.5)   # Add lines between cells for better separation\n",
        "plt.title('Correlation Matrix Heatmap (Age & Score)') # Title for the heatmap\n",
        "plt.show() # Display the heatmap\n"
      ],
      "metadata": {
        "colab": {
          "base_uri": "https://localhost:8080/",
          "height": 1000
        },
        "id": "qYj7Tq3bUS7A",
        "outputId": "e6d85733-464d-4c08-bcce-d75093074a39"
      },
      "execution_count": 7,
      "outputs": [
        {
          "output_type": "stream",
          "name": "stdout",
          "text": [
            "Original DataFrame:\n",
            "      Name  Age  Score         City\n",
            "0    Alice   25     88     New York\n",
            "1      Bob   30     92  Los Angeles\n",
            "2  Charlie   35     75      Chicago\n",
            "3    David   28     95      Houston\n",
            "4      Eve   32     80      Phoenix\n",
            "\n",
            "==============================\n",
            "\n",
            "Mean of the 'Age' column: 30.0\n",
            "------------------------------\n",
            "Mean of the 'Score' column: 86.0\n",
            "------------------------------\n",
            "Directly printing mean of 'Age': 30.0\n",
            "\n",
            "==============================\n",
            "\n"
          ]
        },
        {
          "output_type": "display_data",
          "data": {
            "text/plain": [
              "<Figure size 800x600 with 1 Axes>"
            ],
            "image/png": "[encoded data removed]"
          },
          "metadata": {}
        },
        {
          "output_type": "stream",
          "name": "stdout",
          "text": [
            "\n",
            "==============================\n",
            "\n",
            "Correlation Matrix:\n",
            "            Age     Score\n",
            "Age    1.000000 -0.748147\n",
            "Score -0.748147  1.000000\n"
          ]
        },
        {
          "output_type": "display_data",
          "data": {
            "text/plain": [
              "<Figure size 700x600 with 2 Axes>"
            ],
            "image/png": "[encoded data removed]"
          },
          "metadata": {}
        }
      ]
    },
    {
      "cell_type": "markdown",
      "source": [
        "Question5- Generate a bar plot using Plotly.  \n"
      ],
      "metadata": {
        "id": "XHi3OCLuUkvm"
      }
    },
    {
      "cell_type": "code",
      "source": [
        "import plotly.express as px # Import Plotly Express\n",
        "fig = px.bar(df,\n",
        "             x='City',\n",
        "             y='Score',\n",
        "             title='Scores by City', # Title for the Plotly bar plot\n",
        "             labels={'City': 'City', 'Score': 'Student Score'}, # Axis labels\n",
        "             color='Score', # Color bars based on score\n",
        "             color_continuous_scale=px.colors.sequential.Viridis) # Choose a color scale\n",
        "fig.show() # Display the Plotly plot"
      ],
      "metadata": {
        "colab": {
          "base_uri": "https://localhost:8080/",
          "height": 542
        },
        "id": "xVpH8Vp6UrzN",
        "outputId": "464cc975-36c5-4598-b4e1-f7d399be6101"
      },
      "execution_count": 9,
      "outputs": [
        {
          "output_type": "display_data",
          "data": {
            "text/html": [
              "<html>\n",
              "<head><meta charset=\"utf-8\" /></head>\n",
              "<body>\n",
              "    <div>            <script src=\"https://cdnjs.cloudflare.com/ajax/libs/mathjax/2.7.5/MathJax.js?config=TeX-AMS-MML_SVG\"></script><script type=\"text/javascript\">if (window.MathJax && window.MathJax.Hub && window.MathJax.Hub.Config) {window.MathJax.Hub.Config({SVG: {font: \"STIX-Web\"}});}</script>                <script type=\"text/javascript\">window.PlotlyConfig = {MathJaxConfig: 'local'};</script>\n",
              "        <script charset=\"utf-8\" src=\"https://cdn.plot.ly/plotly-2.35.2.min.js\"></script>                <div id=\"57831302-be31-4967-995c-5724b35adc3f\" class=\"plotly-graph-div\" style=\"height:525px; width:100%;\"></div>            <script type=\"text/javascript\">                                    window.PLOTLYENV=window.PLOTLYENV || {};                                    if (document.getElementById(\"57831302-be31-4967-995c-5724b35adc3f\")) {                    Plotly.newPlot(                        \"57831302-be31-4967-995c-5724b35adc3f\",                        [{\"alignmentgroup\":\"True\",\"hovertemplate\":\"City=%{x}\\u003cbr\\u003eStudent Score=%{marker.color}\\u003cextra\\u003e\\u003c\\u002fextra\\u003e\",\"legendgroup\":\"\",\"marker\":{\"color\":[88,92,75,95,80],\"coloraxis\":\"coloraxis\",\"pattern\":{\"shape\":\"\"}},\"name\":\"\",\"offsetgroup\":\"\",\"orientation\":\"v\",\"showlegend\":false,\"textposition\":\"auto\",\"x\":[\"New York\",\"Los Angeles\",\"Chicago\",\"Houston\",\"Phoenix\"],\"xaxis\":\"x\",\"y\":[88,92,75,95,80],\"yaxis\":\"y\",\"type\":\"bar\"}],                        {\"template\":{\"data\":{\"histogram2dcontour\":[{\"type\":\"histogram2dcontour\",\"colorbar\":{\"outlinewidth\":0,\"ticks\":\"\"},\"colorscale\":[[0.0,\"#0d0887\"],[0.1111111111111111,\"#46039f\"],[0.2222222222222222,\"#7201a8\"],[0.3333333333333333,\"#9c179e\"],[0.4444444444444444,\"#bd3786\"],[0.5555555555555556,\"#d8576b\"],[0.6666666666666666,\"#ed7953\"],[0.7777777777777778,\"#fb9f3a\"],[0.8888888888888888,\"#fdca26\"],[1.0,\"#f0f921\"]]}],\"choropleth\":[{\"type\":\"choropleth\",\"colorbar\":{\"outlinewidth\":0,\"ticks\":\"\"}}],\"histogram2d\":[{\"type\":\"histogram2d\",\"colorbar\":{\"outlinewidth\":0,\"ticks\":\"\"},\"colorscale\":[[0.0,\"#0d0887\"],[0.1111111111111111,\"#46039f\"],[0.2222222222222222,\"#7201a8\"],[0.3333333333333333,\"#9c179e\"],[0.4444444444444444,\"#bd3786\"],[0.5555555555555556,\"#d8576b\"],[0.6666666666666666,\"#ed7953\"],[0.7777777777777778,\"#fb9f3a\"],[0.8888888888888888,\"#fdca26\"],[1.0,\"#f0f921\"]]}],\"heatmap\":[{\"type\":\"heatmap\",\"colorbar\":{\"outlinewidth\":0,\"ticks\":\"\"},\"colorscale\":[[0.0,\"#0d0887\"],[0.1111111111111111,\"#46039f\"],[0.2222222222222222,\"#7201a8\"],[0.3333333333333333,\"#9c179e\"],[0.4444444444444444,\"#bd3786\"],[0.5555555555555556,\"#d8576b\"],[0.6666666666666666,\"#ed7953\"],[0.7777777777777778,\"#fb9f3a\"],[0.8888888888888888,\"#fdca26\"],[1.0,\"#f0f921\"]]}],\"heatmapgl\":[{\"type\":\"heatmapgl\",\"colorbar\":{\"outlinewidth\":0,\"ticks\":\"\"},\"colorscale\":[[0.0,\"#0d0887\"],[0.1111111111111111,\"#46039f\"],[0.2222222222222222,\"#7201a8\"],[0.3333333333333333,\"#9c179e\"],[0.4444444444444444,\"#bd3786\"],[0.5555555555555556,\"#d8576b\"],[0.6666666666666666,\"#ed7953\"],[0.7777777777777778,\"#fb9f3a\"],[0.8888888888888888,\"#fdca26\"],[1.0,\"#f0f921\"]]}],\"contourcarpet\":[{\"type\":\"contourcarpet\",\"colorbar\":{\"outlinewidth\":0,\"ticks\":\"\"}}],\"contour\":[{\"type\":\"contour\",\"colorbar\":{\"outlinewidth\":0,\"ticks\":\"\"},\"colorscale\":[[0.0,\"#0d0887\"],[0.1111111111111111,\"#46039f\"],[0.2222222222222222,\"#7201a8\"],[0.3333333333333333,\"#9c179e\"],[0.4444444444444444,\"#bd3786\"],[0.5555555555555556,\"#d8576b\"],[0.6666666666666666,\"#ed7953\"],[0.7777777777777778,\"#fb9f3a\"],[0.8888888888888888,\"#fdca26\"],[1.0,\"#f0f921\"]]}],\"surface\":[{\"type\":\"surface\",\"colorbar\":{\"outlinewidth\":0,\"ticks\":\"\"},\"colorscale\":[[0.0,\"#0d0887\"],[0.1111111111111111,\"#46039f\"],[0.2222222222222222,\"#7201a8\"],[0.3333333333333333,\"#9c179e\"],[0.4444444444444444,\"#bd3786\"],[0.5555555555555556,\"#d8576b\"],[0.6666666666666666,\"#ed7953\"],[0.7777777777777778,\"#fb9f3a\"],[0.8888888888888888,\"#fdca26\"],[1.0,\"#f0f921\"]]}],\"mesh3d\":[{\"type\":\"mesh3d\",\"colorbar\":{\"outlinewidth\":0,\"ticks\":\"\"}}],\"scatter\":[{\"fillpattern\":{\"fillmode\":\"overlay\",\"size\":10,\"solidity\":0.2},\"type\":\"scatter\"}],\"parcoords\":[{\"type\":\"parcoords\",\"line\":{\"colorbar\":{\"outlinewidth\":0,\"ticks\":\"\"}}}],\"scatterpolargl\":[{\"type\":\"scatterpolargl\",\"marker\":{\"colorbar\":{\"outlinewidth\":0,\"ticks\":\"\"}}}],\"bar\":[{\"error_x\":{\"color\":\"#2a3f5f\"},\"error_y\":{\"color\":\"#2a3f5f\"},\"marker\":{\"line\":{\"color\":\"#E5ECF6\",\"width\":0.5},\"pattern\":{\"fillmode\":\"overlay\",\"size\":10,\"solidity\":0.2}},\"type\":\"bar\"}],\"scattergeo\":[{\"type\":\"scattergeo\",\"marker\":{\"colorbar\":{\"outlinewidth\":0,\"ticks\":\"\"}}}],\"scatterpolar\":[{\"type\":\"scatterpolar\",\"marker\":{\"colorbar\":{\"outlinewidth\":0,\"ticks\":\"\"}}}],\"histogram\":[{\"marker\":{\"pattern\":{\"fillmode\":\"overlay\",\"size\":10,\"solidity\":0.2}},\"type\":\"histogram\"}],\"scattergl\":[{\"type\":\"scattergl\",\"marker\":{\"colorbar\":{\"outlinewidth\":0,\"ticks\":\"\"}}}],\"scatter3d\":[{\"type\":\"scatter3d\",\"line\":{\"colorbar\":{\"outlinewidth\":0,\"ticks\":\"\"}},\"marker\":{\"colorbar\":{\"outlinewidth\":0,\"ticks\":\"\"}}}],\"scattermapbox\":[{\"type\":\"scattermapbox\",\"marker\":{\"colorbar\":{\"outlinewidth\":0,\"ticks\":\"\"}}}],\"scatterternary\":[{\"type\":\"scatterternary\",\"marker\":{\"colorbar\":{\"outlinewidth\":0,\"ticks\":\"\"}}}],\"scattercarpet\":[{\"type\":\"scattercarpet\",\"marker\":{\"colorbar\":{\"outlinewidth\":0,\"ticks\":\"\"}}}],\"carpet\":[{\"aaxis\":{\"endlinecolor\":\"#2a3f5f\",\"gridcolor\":\"white\",\"linecolor\":\"white\",\"minorgridcolor\":\"white\",\"startlinecolor\":\"#2a3f5f\"},\"baxis\":{\"endlinecolor\":\"#2a3f5f\",\"gridcolor\":\"white\",\"linecolor\":\"white\",\"minorgridcolor\":\"white\",\"startlinecolor\":\"#2a3f5f\"},\"type\":\"carpet\"}],\"table\":[{\"cells\":{\"fill\":{\"color\":\"#EBF0F8\"},\"line\":{\"color\":\"white\"}},\"header\":{\"fill\":{\"color\":\"#C8D4E3\"},\"line\":{\"color\":\"white\"}},\"type\":\"table\"}],\"barpolar\":[{\"marker\":{\"line\":{\"color\":\"#E5ECF6\",\"width\":0.5},\"pattern\":{\"fillmode\":\"overlay\",\"size\":10,\"solidity\":0.2}},\"type\":\"barpolar\"}],\"pie\":[{\"automargin\":true,\"type\":\"pie\"}]},\"layout\":{\"autotypenumbers\":\"strict\",\"colorway\":[\"#636efa\",\"#EF553B\",\"#00cc96\",\"#ab63fa\",\"#FFA15A\",\"#19d3f3\",\"#FF6692\",\"#B6E880\",\"#FF97FF\",\"#FECB52\"],\"font\":{\"color\":\"#2a3f5f\"},\"hovermode\":\"closest\",\"hoverlabel\":{\"align\":\"left\"},\"paper_bgcolor\":\"white\",\"plot_bgcolor\":\"#E5ECF6\",\"polar\":{\"bgcolor\":\"#E5ECF6\",\"angularaxis\":{\"gridcolor\":\"white\",\"linecolor\":\"white\",\"ticks\":\"\"},\"radialaxis\":{\"gridcolor\":\"white\",\"linecolor\":\"white\",\"ticks\":\"\"}},\"ternary\":{\"bgcolor\":\"#E5ECF6\",\"aaxis\":{\"gridcolor\":\"white\",\"linecolor\":\"white\",\"ticks\":\"\"},\"baxis\":{\"gridcolor\":\"white\",\"linecolor\":\"white\",\"ticks\":\"\"},\"caxis\":{\"gridcolor\":\"white\",\"linecolor\":\"white\",\"ticks\":\"\"}},\"coloraxis\":{\"colorbar\":{\"outlinewidth\":0,\"ticks\":\"\"}},\"colorscale\":{\"sequential\":[[0.0,\"#0d0887\"],[0.1111111111111111,\"#46039f\"],[0.2222222222222222,\"#7201a8\"],[0.3333333333333333,\"#9c179e\"],[0.4444444444444444,\"#bd3786\"],[0.5555555555555556,\"#d8576b\"],[0.6666666666666666,\"#ed7953\"],[0.7777777777777778,\"#fb9f3a\"],[0.8888888888888888,\"#fdca26\"],[1.0,\"#f0f921\"]],\"sequentialminus\":[[0.0,\"#0d0887\"],[0.1111111111111111,\"#46039f\"],[0.2222222222222222,\"#7201a8\"],[0.3333333333333333,\"#9c179e\"],[0.4444444444444444,\"#bd3786\"],[0.5555555555555556,\"#d8576b\"],[0.6666666666666666,\"#ed7953\"],[0.7777777777777778,\"#fb9f3a\"],[0.8888888888888888,\"#fdca26\"],[1.0,\"#f0f921\"]],\"diverging\":[[0,\"#8e0152\"],[0.1,\"#c51b7d\"],[0.2,\"#de77ae\"],[0.3,\"#f1b6da\"],[0.4,\"#fde0ef\"],[0.5,\"#f7f7f7\"],[0.6,\"#e6f5d0\"],[0.7,\"#b8e186\"],[0.8,\"#7fbc41\"],[0.9,\"#4d9221\"],[1,\"#276419\"]]},\"xaxis\":{\"gridcolor\":\"white\",\"linecolor\":\"white\",\"ticks\":\"\",\"title\":{\"standoff\":15},\"zerolinecolor\":\"white\",\"automargin\":true,\"zerolinewidth\":2},\"yaxis\":{\"gridcolor\":\"white\",\"linecolor\":\"white\",\"ticks\":\"\",\"title\":{\"standoff\":15},\"zerolinecolor\":\"white\",\"automargin\":true,\"zerolinewidth\":2},\"scene\":{\"xaxis\":{\"backgroundcolor\":\"#E5ECF6\",\"gridcolor\":\"white\",\"linecolor\":\"white\",\"showbackground\":true,\"ticks\":\"\",\"zerolinecolor\":\"white\",\"gridwidth\":2},\"yaxis\":{\"backgroundcolor\":\"#E5ECF6\",\"gridcolor\":\"white\",\"linecolor\":\"white\",\"showbackground\":true,\"ticks\":\"\",\"zerolinecolor\":\"white\",\"gridwidth\":2},\"zaxis\":{\"backgroundcolor\":\"#E5ECF6\",\"gridcolor\":\"white\",\"linecolor\":\"white\",\"showbackground\":true,\"ticks\":\"\",\"zerolinecolor\":\"white\",\"gridwidth\":2}},\"shapedefaults\":{\"line\":{\"color\":\"#2a3f5f\"}},\"annotationdefaults\":{\"arrowcolor\":\"#2a3f5f\",\"arrowhead\":0,\"arrowwidth\":1},\"geo\":{\"bgcolor\":\"white\",\"landcolor\":\"#E5ECF6\",\"subunitcolor\":\"white\",\"showland\":true,\"showlakes\":true,\"lakecolor\":\"white\"},\"title\":{\"x\":0.05},\"mapbox\":{\"style\":\"light\"}}},\"xaxis\":{\"anchor\":\"y\",\"domain\":[0.0,1.0],\"title\":{\"text\":\"City\"}},\"yaxis\":{\"anchor\":\"x\",\"domain\":[0.0,1.0],\"title\":{\"text\":\"Student Score\"}},\"coloraxis\":{\"colorbar\":{\"title\":{\"text\":\"Student Score\"}},\"colorscale\":[[0.0,\"#440154\"],[0.1111111111111111,\"#482878\"],[0.2222222222222222,\"#3e4989\"],[0.3333333333333333,\"#31688e\"],[0.4444444444444444,\"#26828e\"],[0.5555555555555556,\"#1f9e89\"],[0.6666666666666666,\"#35b779\"],[0.7777777777777778,\"#6ece58\"],[0.8888888888888888,\"#b5de2b\"],[1.0,\"#fde725\"]]},\"legend\":{\"tracegroupgap\":0},\"title\":{\"text\":\"Scores by City\"},\"barmode\":\"relative\"},                        {\"responsive\": true}                    ).then(function(){\n",
              "                            \n",
              "var gd = document.getElementById('57831302-be31-4967-995c-5724b35adc3f');\n",
              "var x = new MutationObserver(function (mutations, observer) {{\n",
              "        var display = window.getComputedStyle(gd).display;\n",
              "        if (!display || display === 'none') {{\n",
              "            console.log([gd, 'removed!']);\n",
              "            Plotly.purge(gd);\n",
              "            observer.disconnect();\n",
              "        }}\n",
              "}});\n",
              "\n",
              "// Listen for the removal of the full notebook cells\n",
              "var notebookContainer = gd.closest('#notebook-container');\n",
              "if (notebookContainer) {{\n",
              "    x.observe(notebookContainer, {childList: true});\n",
              "}}\n",
              "\n",
              "// Listen for the clearing of the current output cell\n",
              "var outputEl = gd.closest('.output');\n",
              "if (outputEl) {{\n",
              "    x.observe(outputEl, {childList: true});\n",
              "}}\n",
              "\n",
              "                        })                };                            </script>        </div>\n",
              "</body>\n",
              "</html>"
            ]
          },
          "metadata": {}
        }
      ]
    },
    {
      "cell_type": "markdown",
      "source": [
        "Question6- Create a DataFrame and add a new column based on an existing column."
      ],
      "metadata": {
        "id": "-CDL25HDVUHj"
      }
    },
    {
      "cell_type": "code",
      "source": [
        "df['Normalized Score'] = (df['Score'] / df['Score'].max()) * 100\n",
        "\n",
        "# Another example: Create a 'Status' column based on 'Score'\n",
        "df['Status'] = df['Score'].apply(lambda x: 'Passed' if x >= 70 else 'Failed')\n",
        "\n",
        "print(\"DataFrame with New Columns:\")\n",
        "print(df)\n"
      ],
      "metadata": {
        "colab": {
          "base_uri": "https://localhost:8080/"
        },
        "id": "hiMYAAgvV8VB",
        "outputId": "aa42ca5e-b7c6-4c2f-d1c7-18a6a2e7e2f0"
      },
      "execution_count": 10,
      "outputs": [
        {
          "output_type": "stream",
          "name": "stdout",
          "text": [
            "DataFrame with New Columns:\n",
            "      Name  Age  Score         City  Normalized Score  Status\n",
            "0    Alice   25     88     New York         92.631579  Passed\n",
            "1      Bob   30     92  Los Angeles         96.842105  Passed\n",
            "2  Charlie   35     75      Chicago         78.947368  Passed\n",
            "3    David   28     95      Houston        100.000000  Passed\n",
            "4      Eve   32     80      Phoenix         84.210526  Passed\n"
          ]
        }
      ]
    },
    {
      "cell_type": "markdown",
      "source": [
        "Question7- Write a program to perform element-wise multiplication of two NumPy arrays."
      ],
      "metadata": {
        "id": "1wzMCBGjWRpS"
      }
    },
    {
      "cell_type": "code",
      "source": [
        "import numpy as np\n",
        "\n",
        "# Create two sample NumPy arrays\n",
        "# For element-wise multiplication, the arrays must have compatible shapes.\n",
        "# The simplest case is when they have the exact same shape.\n",
        "\n",
        "# Array 1\n",
        "array1 = np.array([\n",
        "    [1, 2, 3],\n",
        "    [4, 5, 6],\n",
        "    [7, 8, 9]\n",
        "])\n",
        "print(\"Array 1:\")\n",
        "print(array1)\n",
        "print(f\"Shape of Array 1: {array1.shape}\\n\")\n",
        "\n",
        "# Array 2 (same shape as Array 1)\n",
        "array2 = np.array([\n",
        "    [10, 11, 12],\n",
        "    [13, 14, 15],\n",
        "    [16, 17, 18]\n",
        "])\n",
        "print(\"Array 2:\")\n",
        "print(array2)\n",
        "print(f\"Shape of Array 2: {array2.shape}\\n\")\n",
        "\n",
        "# Perform element-wise multiplication\n",
        "# In NumPy, the '*' operator performs element-wise multiplication\n",
        "# when used with two arrays of compatible shapes.\n",
        "element_wise_product = array1 * array2\n",
        "\n",
        "print(\"--- Element-wise Multiplication Result ---\")\n",
        "print(element_wise_product)\n",
        "\n",
        "# Example with broadcasting (arrays of different but compatible shapes)\n",
        "print(\"\\n--- Example with Broadcasting ---\")\n",
        "array_a = np.array([[1, 2, 3], [4, 5, 6]]) # Shape (2, 3)\n",
        "array_b = np.array([10, 20, 30])          # Shape (3,) - will be broadcast row-wise\n",
        "\n",
        "print(\"Array A:\")\n",
        "print(array_a)\n",
        "print(f\"Shape of Array A: {array_a.shape}\\n\")\n",
        "\n",
        "print(\"Array B:\")\n",
        "print(array_b)\n",
        "print(f\"Shape of Array B: {array_b.shape}\\n\")\n",
        "\n",
        "broadcast_product = array_a * array_b\n",
        "print(\"Broadcasted Element-wise Product (Array A * Array B):\")\n",
        "print(broadcast_product)\n",
        "# Expected:\n",
        "# [[ 1*10,  2*20,  3*30],\n",
        "#  [ 4*10,  5*20,  6*30]]\n",
        "# [[ 10,  40,  90],\n",
        "#  [ 40, 100, 180]]"
      ],
      "metadata": {
        "colab": {
          "base_uri": "https://localhost:8080/"
        },
        "id": "YUAz5VUBWbBz",
        "outputId": "da91cc76-84b5-481f-af27-c03c76a02455"
      },
      "execution_count": 11,
      "outputs": [
        {
          "output_type": "stream",
          "name": "stdout",
          "text": [
            "Array 1:\n",
            "[[1 2 3]\n",
            " [4 5 6]\n",
            " [7 8 9]]\n",
            "Shape of Array 1: (3, 3)\n",
            "\n",
            "Array 2:\n",
            "[[10 11 12]\n",
            " [13 14 15]\n",
            " [16 17 18]]\n",
            "Shape of Array 2: (3, 3)\n",
            "\n",
            "--- Element-wise Multiplication Result ---\n",
            "[[ 10  22  36]\n",
            " [ 52  70  90]\n",
            " [112 136 162]]\n",
            "\n",
            "--- Example with Broadcasting ---\n",
            "Array A:\n",
            "[[1 2 3]\n",
            " [4 5 6]]\n",
            "Shape of Array A: (2, 3)\n",
            "\n",
            "Array B:\n",
            "[10 20 30]\n",
            "Shape of Array B: (3,)\n",
            "\n",
            "Broadcasted Element-wise Product (Array A * Array B):\n",
            "[[ 10  40  90]\n",
            " [ 40 100 180]]\n"
          ]
        }
      ]
    },
    {
      "cell_type": "markdown",
      "source": [
        "Question8-  Create a line plot with multiple lines using Matplotlib."
      ],
      "metadata": {
        "id": "t9M4aZgbW2Ks"
      }
    },
    {
      "cell_type": "code",
      "source": [
        "import matplotlib.pyplot as plt\n",
        "print(\"--- Multi-Line Plot using Matplotlib ---\")\n",
        "\n",
        "# Sample data for multiple lines\n",
        "x = np.arange(0, 10, 1)\n",
        "y1 = x * 2\n",
        "y2 = x ** 2\n",
        "y3 = 10 * np.sin(x) + 20\n",
        "\n",
        "plt.figure(figsize=(10, 6)) # Set the figure size\n",
        "\n",
        "# Plotting each line\n",
        "plt.plot(x, y1, label='Line 1: y = 2x', color='blue', linestyle='-', marker='o')\n",
        "plt.plot(x, y2, label='Line 2: y = x^2', color='red', linestyle='--', marker='s')\n",
        "plt.plot(x, y3, label='Line 3: y = 10*sin(x) + 20', color='green', linestyle=':', marker='^')\n",
        "\n",
        "plt.title('Multi-Line Plot Example') # Add a title\n",
        "plt.xlabel('X-axis Label') # Label the x-axis\n",
        "plt.ylabel('Y-axis Label') # Label the y-axis\n",
        "plt.legend() # Display the legend to identify lines\n",
        "plt.grid(True) # Add a grid\n",
        "plt.show() # Show the plot\n"
      ],
      "metadata": {
        "colab": {
          "base_uri": "https://localhost:8080/",
          "height": 581
        },
        "id": "JE14K2oRXBAq",
        "outputId": "4cfbba3e-0025-4899-fb2f-9c521c816ae3"
      },
      "execution_count": 12,
      "outputs": [
        {
          "output_type": "stream",
          "name": "stdout",
          "text": [
            "--- Multi-Line Plot using Matplotlib ---\n"
          ]
        },
        {
          "output_type": "display_data",
          "data": {
            "text/plain": [
              "<Figure size 1000x600 with 1 Axes>"
            ],
            "image/png": "[encoded data removed]"
          },
          "metadata": {}
        }
      ]
    },
    {
      "cell_type": "markdown",
      "source": [
        "Question9- Generate a Pandas DataFrame and filter rows where a column value is greater than a threshold."
      ],
      "metadata": {
        "id": "VNRTRWzZXmox"
      }
    },
    {
      "cell_type": "code",
      "source": [
        "import pandas as pd\n",
        "print(\"--- Filtering DataFrame Rows ---\")\n",
        "\n",
        "# Create a new sample DataFrame for demonstration\n",
        "data_filter = {\n",
        "    'Product': ['Laptop', 'Mouse', 'Keyboard', 'Monitor', 'Webcam', 'Headphones'],\n",
        "    'Price': [1200, 25, 75, 300, 40, 150],\n",
        "    'Quantity': [10, 50, 30, 5, 20, 15]\n",
        "}\n",
        "df_products = pd.DataFrame(data_filter)\n",
        "\n",
        "print(\"Original Products DataFrame:\")\n",
        "print(df_products)\n",
        "print(\"\\n\" + \"-\"*20 + \"\\n\")\n",
        "\n",
        "# Define a threshold\n",
        "price_threshold = 100"
      ],
      "metadata": {
        "colab": {
          "base_uri": "https://localhost:8080/"
        },
        "id": "av_L6nxOX4s7",
        "outputId": "1bee8aee-9808-4ee1-8433-80ae2ce92423"
      },
      "execution_count": 13,
      "outputs": [
        {
          "output_type": "stream",
          "name": "stdout",
          "text": [
            "--- Filtering DataFrame Rows ---\n",
            "Original Products DataFrame:\n",
            "      Product  Price  Quantity\n",
            "0      Laptop   1200        10\n",
            "1       Mouse     25        50\n",
            "2    Keyboard     75        30\n",
            "3     Monitor    300         5\n",
            "4      Webcam     40        20\n",
            "5  Headphones    150        15\n",
            "\n",
            "--------------------\n",
            "\n"
          ]
        }
      ]
    },
    {
      "cell_type": "markdown",
      "source": [
        "Question10- Create a histogram using Seaborn to visualize a distribution.  "
      ],
      "metadata": {
        "id": "16Epb4uXYcyb"
      }
    },
    {
      "cell_type": "code",
      "source": [
        "import seaborn as sns\n",
        "print(\"--- Price Distribution Histogram (Seaborn) ---\")\n",
        "\n",
        "plt.figure(figsize=(8, 5)) # Set the figure size\n",
        "sns.histplot(df_products['Price'],\n",
        "             bins=5,         # Number of bins for the histogram\n",
        "             kde=True,       # Overlay a Kernel Density Estimate (KDE) curve\n",
        "             color='purple', # Color of the bars\n",
        "             edgecolor='black') # Color of the bar edges\n",
        "plt.title('Distribution of Product Prices') # Title for the plot\n",
        "plt.xlabel('Price') # X-axis label\n",
        "plt.ylabel('Frequency') # Y-axis label\n",
        "plt.grid(axis='y', linestyle='--', alpha=0.7) # Add a grid on the y-axis\n",
        "plt.show() # Display the plot"
      ],
      "metadata": {
        "colab": {
          "base_uri": "https://localhost:8080/",
          "height": 504
        },
        "id": "QacksbocYlBE",
        "outputId": "e29820d5-e381-4778-d831-c2529cce714f"
      },
      "execution_count": 14,
      "outputs": [
        {
          "output_type": "stream",
          "name": "stdout",
          "text": [
            "--- Price Distribution Histogram (Seaborn) ---\n"
          ]
        },
        {
          "output_type": "display_data",
          "data": {
            "text/plain": [
              "<Figure size 800x500 with 1 Axes>"
            ],
            "image/png": "[encoded data removed]"
          },
          "metadata": {}
        }
      ]
    },
    {
      "cell_type": "markdown",
      "source": [
        "Question11- Perform matrix multiplication using NumPy."
      ],
      "metadata": {
        "id": "WjlIVG8MZMJe"
      }
    },
    {
      "cell_type": "code",
      "source": [
        "import numpy as np\n",
        "print(\"--- Matrix Multiplication using NumPy ---\")\n",
        "\n",
        "# Define two matrices (NumPy arrays) for multiplication\n",
        "# For matrix multiplication (dot product), the number of columns in the first matrix\n",
        "# must be equal to the number of rows in the second matrix.\n",
        "\n",
        "matrix1 = np.array([\n",
        "    [1, 2, 3],\n",
        "    [4, 5, 6]\n",
        "]) # Shape (2, 3)\n",
        "\n",
        "matrix2 = np.array([\n",
        "    [7, 8],\n",
        "    [9, 10],\n",
        "    [11, 12]\n",
        "]) # Shape (3, 2)\n",
        "\n",
        "print(\"Matrix 1:\")\n",
        "print(matrix1)\n",
        "print(f\"Shape of Matrix 1: {matrix1.shape}\\n\")\n",
        "\n",
        "print(\"Matrix 2:\")\n",
        "print(matrix2)\n",
        "print(f\"Shape of Matrix 2: {matrix2.shape}\\n\")\n",
        "\n",
        "# Method 1: Using np.dot()\n",
        "matrix_product_dot = np.dot(matrix1, matrix2)\n",
        "print(\"Matrix Product (using np.dot()):\")\n",
        "print(matrix_product_dot)\n",
        "print(f\"Shape of Matrix Product (np.dot()): {matrix_product_dot.shape}\\n\")\n",
        "\n",
        "# Method 2: Using the '@' operator (preferred for readability in modern Python)\n",
        "matrix_product_at = matrix1 @ matrix2\n",
        "print(\"Matrix Product (using @ operator):\")\n",
        "print(matrix_product_at)\n",
        "print(f\"Shape of Matrix Product (@ operator): {matrix_product_at.shape}\")\n",
        "\n",
        "# Expected result for both methods: (2, 2) matrix\n",
        "# [[1*7 + 2*9 + 3*11, 1*8 + 2*10 + 3*12],\n",
        "#  [4*7 + 5*9 + 6*11, 4*8 + 5*10 + 6*12]]\n",
        "# [[ 7 + 18 + 33,  8 + 20 + 36],\n",
        "#  [28 + 45 + 66, 32 + 50 + 72]]\n",
        "# [[58, 64],\n",
        "#  [139, 154]]\n"
      ],
      "metadata": {
        "colab": {
          "base_uri": "https://localhost:8080/"
        },
        "id": "KxOUNY-yZVYk",
        "outputId": "9878b82f-6872-4a88-a6c4-021f314a2f21"
      },
      "execution_count": 15,
      "outputs": [
        {
          "output_type": "stream",
          "name": "stdout",
          "text": [
            "--- Matrix Multiplication using NumPy ---\n",
            "Matrix 1:\n",
            "[[1 2 3]\n",
            " [4 5 6]]\n",
            "Shape of Matrix 1: (2, 3)\n",
            "\n",
            "Matrix 2:\n",
            "[[ 7  8]\n",
            " [ 9 10]\n",
            " [11 12]]\n",
            "Shape of Matrix 2: (3, 2)\n",
            "\n",
            "Matrix Product (using np.dot()):\n",
            "[[ 58  64]\n",
            " [139 154]]\n",
            "Shape of Matrix Product (np.dot()): (2, 2)\n",
            "\n",
            "Matrix Product (using @ operator):\n",
            "[[ 58  64]\n",
            " [139 154]]\n",
            "Shape of Matrix Product (@ operator): (2, 2)\n"
          ]
        }
      ]
    },
    {
      "cell_type": "markdown",
      "source": [
        "Question12- Use Pandas to load a CSV file and display its first 5 rows."
      ],
      "metadata": {
        "id": "rYsJagWcZnqP"
      }
    },
    {
      "cell_type": "code",
      "source": [
        "import pandas as pd\n",
        "print(\"--- Loading and Displaying CSV Data with Pandas ---\")\n",
        "\n",
        "# To demonstrate, we'll create a dummy CSV file first.\n",
        "# In a real scenario, you would have an existing CSV file.\n",
        "csv_data = \"\"\"col1,col2,col3\n",
        "1,A,10.5\n",
        "2,B,20.1\n",
        "3,C,15.7\n",
        "4,D,30.0\n",
        "5,E,5.2\n",
        "6,F,25.9\n",
        "7,G,12.3\n",
        "\"\"\"\n",
        "with open('sample_data.csv', 'w') as f:\n",
        "    f.write(csv_data)"
      ],
      "metadata": {
        "colab": {
          "base_uri": "https://localhost:8080/"
        },
        "id": "UfMMyNlVZvJv",
        "outputId": "3a378950-5ddd-4e4c-f713-eacecbe9f058"
      },
      "execution_count": 16,
      "outputs": [
        {
          "output_type": "stream",
          "name": "stdout",
          "text": [
            "--- Loading and Displaying CSV Data with Pandas ---\n"
          ]
        }
      ]
    },
    {
      "cell_type": "markdown",
      "source": [
        "Question13- Create a 3D scatter plot using Plotly."
      ],
      "metadata": {
        "id": "VGiYAuUzaklg"
      }
    },
    {
      "cell_type": "code",
      "source": [
        "import plotly.express as px\n",
        "print(\"--- 3D Scatter Plot using Plotly ---\")\n",
        "\n",
        "# Generate sample 3D data\n",
        "np.random.seed(42) # for reproducibility\n",
        "num_points = 100\n",
        "x_3d = np.random.rand(num_points) * 10\n",
        "y_3d = np.random.rand(num_points) * 10\n",
        "z_3d = np.random.rand(num_points) * 10\n",
        "\n",
        "# Create a DataFrame for Plotly\n",
        "df_3d = pd.DataFrame({'X': x_3d, 'Y': y_3d, 'Z': z_3d})\n",
        "\n",
        "# Create the 3D scatter plot\n",
        "fig_3d = px.scatter_3d(df_3d,\n",
        "                       x='X',\n",
        "                       y='Y',\n",
        "                       z='Z',\n",
        "                       color='Z', # Color points based on their Z value\n",
        "                       title='3D Scatter Plot Example',\n",
        "                       labels={'X': 'X-axis', 'Y': 'Y-axis', 'Z': 'Z-axis'})\n",
        "\n",
        "fig_3d.show() # Display the 3D plot"
      ],
      "metadata": {
        "colab": {
          "base_uri": "https://localhost:8080/",
          "height": 559
        },
        "id": "3lPX4m-Far8e",
        "outputId": "32f2d866-4212-4eed-8ec3-fc708e7d17e2"
      },
      "execution_count": 17,
      "outputs": [
        {
          "output_type": "stream",
          "name": "stdout",
          "text": [
            "--- 3D Scatter Plot using Plotly ---\n"
          ]
        },
        {
          "output_type": "display_data",
          "data": {
            "text/html": [
              "<html>\n",
              "<head><meta charset=\"utf-8\" /></head>\n",
              "<body>\n",
              "    <div>            <script src=\"https://cdnjs.cloudflare.com/ajax/libs/mathjax/2.7.5/MathJax.js?config=TeX-AMS-MML_SVG\"></script><script type=\"text/javascript\">if (window.MathJax && window.MathJax.Hub && window.MathJax.Hub.Config) {window.MathJax.Hub.Config({SVG: {font: \"STIX-Web\"}});}</script>                <script type=\"text/javascript\">window.PlotlyConfig = {MathJaxConfig: 'local'};</script>\n",
              "        <script charset=\"utf-8\" src=\"https://cdn.plot.ly/plotly-2.35.2.min.js\"></script>                <div id=\"718b0ce1-dcb2-4bda-84b5-26fc21ea2595\" class=\"plotly-graph-div\" style=\"height:525px; width:100%;\"></div>            <script type=\"text/javascript\">                                    window.PLOTLYENV=window.PLOTLYENV || {};                                    if (document.getElementById(\"718b0ce1-dcb2-4bda-84b5-26fc21ea2595\")) {                    Plotly.newPlot(                        \"718b0ce1-dcb2-4bda-84b5-26fc21ea2595\",                        [{\"hovertemplate\":\"X-axis=%{x}\\u003cbr\\u003eY-axis=%{y}\\u003cbr\\u003eZ-axis=%{marker.color}\\u003cextra\\u003e\\u003c\\u002fextra\\u003e\",\"legendgroup\":\"\",\"marker\":{\"color\":[6.420316461542877,0.8413996499504883,1.6162871409461377,8.985541885270793,6.0642905965958995,0.09197051616629648,1.014715428660321,6.635017691080558,0.05061583846218687,1.6080805141749865,5.487337893665861,6.918951976926932,6.519612595026006,2.242693094605598,7.121792213475358,2.3724908749680007,3.2539969815926773,7.464914051180242,6.496328990472147,8.49223410494178,6.576128923003433,5.683086033354716,0.9367476782809248,3.6771580305943354,2.6520236768172545,2.4398964337908358,9.730105547524456,3.930977246667604,8.920465551771134,6.311386259972629,7.948113035416484,5.026370931051921,5.769038846263591,4.925176938188639,1.952429877980445,7.224521152615053,2.807723624408558,0.2431596643145384,6.454722959071678,1.7711067940704894,9.404585843529143,9.539285770025874,9.148643902204485,3.7015870025544437,0.15456616528867428,9.283185625877254,4.281841483173143,9.666548190436696,9.636199770892528,8.530094554673601,2.944488920695857,3.8509772860192526,8.511366715168569,3.1692200515627764,1.6949274668609249,5.568012624583502,9.36154774160781,6.96029796674973,5.700611700893649,0.9717649377076854,6.150072266991698,9.900538501042632,1.4008401523652403,5.183296523637368,8.773730719279554,7.407686177542044,6.97015740995268,7.024840839871093,3.5949115121975517,2.9359184426449336,8.093611554785136,8.101133946791808,8.670723185801037,9.132405525564714,5.113423988609378,5.015162946871996,7.9829517896677515,6.4996393077776515,7.019668772577034,7.95792669436101,8.900053418175663,3.379951568515358,3.75582952639944,0.93981939840869,5.78280140996174,0.35942273796742086,4.655980181324601,5.426446347075766,2.865412521282844,5.9083326056901075,0.3050024993904943,0.37348188749214417,8.226005606596583,3.601906414112629,1.2706051265188478,5.222432600548044,7.699935530986108,2.1582102749684315,6.228904758190002,0.85347464993768],\"coloraxis\":\"coloraxis\",\"symbol\":\"circle\"},\"mode\":\"markers\",\"name\":\"\",\"scene\":\"scene\",\"showlegend\":false,\"x\":[3.745401188473625,9.50714306409916,7.319939418114051,5.986584841970366,1.5601864044243652,1.5599452033620265,0.5808361216819946,8.661761457749352,6.011150117432088,7.080725777960454,0.20584494295802447,9.699098521619943,8.324426408004218,2.1233911067827616,1.8182496720710062,1.8340450985343382,3.0424224295953772,5.247564316322379,4.319450186421157,2.9122914019804194,6.118528947223795,1.3949386065204183,2.9214464853521815,3.663618432936917,4.56069984217036,7.851759613930136,1.9967378215835974,5.142344384136116,5.924145688620425,0.46450412719997725,6.075448519014383,1.7052412368729153,0.6505159298527952,9.488855372533333,9.656320330745594,8.08397348116461,3.0461376917337066,0.9767211400638387,6.842330265121569,4.4015249373960135,1.2203823484477883,4.951769101112702,0.34388521115218396,9.093204020787821,2.587799816000169,6.62522284353982,3.1171107608941098,5.200680211778108,5.4671027934327965,1.8485445552552704,9.695846277645586,7.7513282336111455,9.394989415641891,8.948273504276488,5.978999788110851,9.218742350231167,0.884925020519195,1.959828624191452,0.45227288910538066,3.2533033076326436,3.8867728968948203,2.713490317738959,8.287375091519294,3.567533266935893,2.8093450968738076,5.426960831582485,1.4092422497476265,8.021969807540398,0.7455064367977082,9.868869366005173,7.722447692966574,1.987156815341724,0.05522117123602399,8.154614284548341,7.068573438476172,7.2900716804098735,7.712703466859457,0.7404465173409036,3.5846572854427263,1.1586905952512971,8.631034258755935,6.232981268275579,3.308980248526492,0.6355835028602363,3.109823217156622,3.2518332202674705,7.29606178338064,6.3755747135521315,8.872127425763265,4.722149251619493,1.195942459383017,7.13244787222995,7.607850486168974,5.612771975694963,7.70967179954561,4.937955963643907,5.227328293819941,4.275410183585496,0.2541912674409519,1.0789142699330445],\"y\":[0.3142918568673425,6.364104112637804,3.143559810763267,5.085706911647028,9.07566473926093,2.4929222914887497,4.103829230356297,7.555511385430487,2.2879816549162246,0.7697990982879299,2.8975145291376805,1.6122128725400442,9.29697652342573,8.08120379564417,6.334037565104235,8.714605901877178,8.036720768991145,1.8657005888603584,8.925589984899778,5.393422419156507,8.074401551640625,8.960912999234932,3.1800347497186388,1.1005192452767676,2.279351625419417,4.271077886262563,8.18014765922493,8.607305832563434,0.06952130531190703,5.107473025775658,4.17411003148779,2.2210781047073027,1.198653673336828,3.3761517140362796,9.429097039125192,3.2320293202075523,5.187906217433661,7.030189588951778,3.63629602379294,9.717820827209607,9.624472949421111,2.5178229582536416,4.972485058923855,3.0087830981676964,2.848404943774676,0.36886947354532795,6.095643339798968,5.026790232288615,0.5147875124998935,2.7864646423661146,9.082658859666537,2.395618906669724,1.448948720912231,4.89452760277563,9.856504541106007,2.4205527151150044,6.721355474058786,7.616196153287175,2.3763754399239967,7.282163486118596,3.677831327192532,6.3230583059357945,6.335297107608947,5.357746840747585,0.902897700544083,8.35302495589238,3.2078006497173583,1.8651851039985423,0.40775141554763916,5.908929431882418,6.775643618422825,0.16587828927856152,5.12093058299281,2.2649577519793795,6.451727904094499,1.7436642900499144,6.90937738102466,3.867353463005374,9.367299887367345,1.3752094414599325,3.410663510502585,1.1347352124058907,9.246936182785628,8.77339353380981,2.579416277151556,6.59984046034179,8.172222002012159,5.5520081159946235,5.296505783560065,2.418522909004517,0.9310276780589921,8.972157579533267,9.004180571633304,6.33101457273268,3.390297910487007,3.492095746126609,7.259556788702394,8.971102599525771,8.870864242651173,7.798755458576238],\"z\":[6.420316461542877,0.8413996499504883,1.6162871409461377,8.985541885270793,6.0642905965958995,0.09197051616629648,1.014715428660321,6.635017691080558,0.05061583846218687,1.6080805141749865,5.487337893665861,6.918951976926932,6.519612595026006,2.242693094605598,7.121792213475358,2.3724908749680007,3.2539969815926773,7.464914051180242,6.496328990472147,8.49223410494178,6.576128923003433,5.683086033354716,0.9367476782809248,3.6771580305943354,2.6520236768172545,2.4398964337908358,9.730105547524456,3.930977246667604,8.920465551771134,6.311386259972629,7.948113035416484,5.026370931051921,5.769038846263591,4.925176938188639,1.952429877980445,7.224521152615053,2.807723624408558,0.2431596643145384,6.454722959071678,1.7711067940704894,9.404585843529143,9.539285770025874,9.148643902204485,3.7015870025544437,0.15456616528867428,9.283185625877254,4.281841483173143,9.666548190436696,9.636199770892528,8.530094554673601,2.944488920695857,3.8509772860192526,8.511366715168569,3.1692200515627764,1.6949274668609249,5.568012624583502,9.36154774160781,6.96029796674973,5.700611700893649,0.9717649377076854,6.150072266991698,9.900538501042632,1.4008401523652403,5.183296523637368,8.773730719279554,7.407686177542044,6.97015740995268,7.024840839871093,3.5949115121975517,2.9359184426449336,8.093611554785136,8.101133946791808,8.670723185801037,9.132405525564714,5.113423988609378,5.015162946871996,7.9829517896677515,6.4996393077776515,7.019668772577034,7.95792669436101,8.900053418175663,3.379951568515358,3.75582952639944,0.93981939840869,5.78280140996174,0.35942273796742086,4.655980181324601,5.426446347075766,2.865412521282844,5.9083326056901075,0.3050024993904943,0.37348188749214417,8.226005606596583,3.601906414112629,1.2706051265188478,5.222432600548044,7.699935530986108,2.1582102749684315,6.228904758190002,0.85347464993768],\"type\":\"scatter3d\"}],                        {\"template\":{\"data\":{\"histogram2dcontour\":[{\"type\":\"histogram2dcontour\",\"colorbar\":{\"outlinewidth\":0,\"ticks\":\"\"},\"colorscale\":[[0.0,\"#0d0887\"],[0.1111111111111111,\"#46039f\"],[0.2222222222222222,\"#7201a8\"],[0.3333333333333333,\"#9c179e\"],[0.4444444444444444,\"#bd3786\"],[0.5555555555555556,\"#d8576b\"],[0.6666666666666666,\"#ed7953\"],[0.7777777777777778,\"#fb9f3a\"],[0.8888888888888888,\"#fdca26\"],[1.0,\"#f0f921\"]]}],\"choropleth\":[{\"type\":\"choropleth\",\"colorbar\":{\"outlinewidth\":0,\"ticks\":\"\"}}],\"histogram2d\":[{\"type\":\"histogram2d\",\"colorbar\":{\"outlinewidth\":0,\"ticks\":\"\"},\"colorscale\":[[0.0,\"#0d0887\"],[0.1111111111111111,\"#46039f\"],[0.2222222222222222,\"#7201a8\"],[0.3333333333333333,\"#9c179e\"],[0.4444444444444444,\"#bd3786\"],[0.5555555555555556,\"#d8576b\"],[0.6666666666666666,\"#ed7953\"],[0.7777777777777778,\"#fb9f3a\"],[0.8888888888888888,\"#fdca26\"],[1.0,\"#f0f921\"]]}],\"heatmap\":[{\"type\":\"heatmap\",\"colorbar\":{\"outlinewidth\":0,\"ticks\":\"\"},\"colorscale\":[[0.0,\"#0d0887\"],[0.1111111111111111,\"#46039f\"],[0.2222222222222222,\"#7201a8\"],[0.3333333333333333,\"#9c179e\"],[0.4444444444444444,\"#bd3786\"],[0.5555555555555556,\"#d8576b\"],[0.6666666666666666,\"#ed7953\"],[0.7777777777777778,\"#fb9f3a\"],[0.8888888888888888,\"#fdca26\"],[1.0,\"#f0f921\"]]}],\"heatmapgl\":[{\"type\":\"heatmapgl\",\"colorbar\":{\"outlinewidth\":0,\"ticks\":\"\"},\"colorscale\":[[0.0,\"#0d0887\"],[0.1111111111111111,\"#46039f\"],[0.2222222222222222,\"#7201a8\"],[0.3333333333333333,\"#9c179e\"],[0.4444444444444444,\"#bd3786\"],[0.5555555555555556,\"#d8576b\"],[0.6666666666666666,\"#ed7953\"],[0.7777777777777778,\"#fb9f3a\"],[0.8888888888888888,\"#fdca26\"],[1.0,\"#f0f921\"]]}],\"contourcarpet\":[{\"type\":\"contourcarpet\",\"colorbar\":{\"outlinewidth\":0,\"ticks\":\"\"}}],\"contour\":[{\"type\":\"contour\",\"colorbar\":{\"outlinewidth\":0,\"ticks\":\"\"},\"colorscale\":[[0.0,\"#0d0887\"],[0.1111111111111111,\"#46039f\"],[0.2222222222222222,\"#7201a8\"],[0.3333333333333333,\"#9c179e\"],[0.4444444444444444,\"#bd3786\"],[0.5555555555555556,\"#d8576b\"],[0.6666666666666666,\"#ed7953\"],[0.7777777777777778,\"#fb9f3a\"],[0.8888888888888888,\"#fdca26\"],[1.0,\"#f0f921\"]]}],\"surface\":[{\"type\":\"surface\",\"colorbar\":{\"outlinewidth\":0,\"ticks\":\"\"},\"colorscale\":[[0.0,\"#0d0887\"],[0.1111111111111111,\"#46039f\"],[0.2222222222222222,\"#7201a8\"],[0.3333333333333333,\"#9c179e\"],[0.4444444444444444,\"#bd3786\"],[0.5555555555555556,\"#d8576b\"],[0.6666666666666666,\"#ed7953\"],[0.7777777777777778,\"#fb9f3a\"],[0.8888888888888888,\"#fdca26\"],[1.0,\"#f0f921\"]]}],\"mesh3d\":[{\"type\":\"mesh3d\",\"colorbar\":{\"outlinewidth\":0,\"ticks\":\"\"}}],\"scatter\":[{\"fillpattern\":{\"fillmode\":\"overlay\",\"size\":10,\"solidity\":0.2},\"type\":\"scatter\"}],\"parcoords\":[{\"type\":\"parcoords\",\"line\":{\"colorbar\":{\"outlinewidth\":0,\"ticks\":\"\"}}}],\"scatterpolargl\":[{\"type\":\"scatterpolargl\",\"marker\":{\"colorbar\":{\"outlinewidth\":0,\"ticks\":\"\"}}}],\"bar\":[{\"error_x\":{\"color\":\"#2a3f5f\"},\"error_y\":{\"color\":\"#2a3f5f\"},\"marker\":{\"line\":{\"color\":\"#E5ECF6\",\"width\":0.5},\"pattern\":{\"fillmode\":\"overlay\",\"size\":10,\"solidity\":0.2}},\"type\":\"bar\"}],\"scattergeo\":[{\"type\":\"scattergeo\",\"marker\":{\"colorbar\":{\"outlinewidth\":0,\"ticks\":\"\"}}}],\"scatterpolar\":[{\"type\":\"scatterpolar\",\"marker\":{\"colorbar\":{\"outlinewidth\":0,\"ticks\":\"\"}}}],\"histogram\":[{\"marker\":{\"pattern\":{\"fillmode\":\"overlay\",\"size\":10,\"solidity\":0.2}},\"type\":\"histogram\"}],\"scattergl\":[{\"type\":\"scattergl\",\"marker\":{\"colorbar\":{\"outlinewidth\":0,\"ticks\":\"\"}}}],\"scatter3d\":[{\"type\":\"scatter3d\",\"line\":{\"colorbar\":{\"outlinewidth\":0,\"ticks\":\"\"}},\"marker\":{\"colorbar\":{\"outlinewidth\":0,\"ticks\":\"\"}}}],\"scattermapbox\":[{\"type\":\"scattermapbox\",\"marker\":{\"colorbar\":{\"outlinewidth\":0,\"ticks\":\"\"}}}],\"scatterternary\":[{\"type\":\"scatterternary\",\"marker\":{\"colorbar\":{\"outlinewidth\":0,\"ticks\":\"\"}}}],\"scattercarpet\":[{\"type\":\"scattercarpet\",\"marker\":{\"colorbar\":{\"outlinewidth\":0,\"ticks\":\"\"}}}],\"carpet\":[{\"aaxis\":{\"endlinecolor\":\"#2a3f5f\",\"gridcolor\":\"white\",\"linecolor\":\"white\",\"minorgridcolor\":\"white\",\"startlinecolor\":\"#2a3f5f\"},\"baxis\":{\"endlinecolor\":\"#2a3f5f\",\"gridcolor\":\"white\",\"linecolor\":\"white\",\"minorgridcolor\":\"white\",\"startlinecolor\":\"#2a3f5f\"},\"type\":\"carpet\"}],\"table\":[{\"cells\":{\"fill\":{\"color\":\"#EBF0F8\"},\"line\":{\"color\":\"white\"}},\"header\":{\"fill\":{\"color\":\"#C8D4E3\"},\"line\":{\"color\":\"white\"}},\"type\":\"table\"}],\"barpolar\":[{\"marker\":{\"line\":{\"color\":\"#E5ECF6\",\"width\":0.5},\"pattern\":{\"fillmode\":\"overlay\",\"size\":10,\"solidity\":0.2}},\"type\":\"barpolar\"}],\"pie\":[{\"automargin\":true,\"type\":\"pie\"}]},\"layout\":{\"autotypenumbers\":\"strict\",\"colorway\":[\"#636efa\",\"#EF553B\",\"#00cc96\",\"#ab63fa\",\"#FFA15A\",\"#19d3f3\",\"#FF6692\",\"#B6E880\",\"#FF97FF\",\"#FECB52\"],\"font\":{\"color\":\"#2a3f5f\"},\"hovermode\":\"closest\",\"hoverlabel\":{\"align\":\"left\"},\"paper_bgcolor\":\"white\",\"plot_bgcolor\":\"#E5ECF6\",\"polar\":{\"bgcolor\":\"#E5ECF6\",\"angularaxis\":{\"gridcolor\":\"white\",\"linecolor\":\"white\",\"ticks\":\"\"},\"radialaxis\":{\"gridcolor\":\"white\",\"linecolor\":\"white\",\"ticks\":\"\"}},\"ternary\":{\"bgcolor\":\"#E5ECF6\",\"aaxis\":{\"gridcolor\":\"white\",\"linecolor\":\"white\",\"ticks\":\"\"},\"baxis\":{\"gridcolor\":\"white\",\"linecolor\":\"white\",\"ticks\":\"\"},\"caxis\":{\"gridcolor\":\"white\",\"linecolor\":\"white\",\"ticks\":\"\"}},\"coloraxis\":{\"colorbar\":{\"outlinewidth\":0,\"ticks\":\"\"}},\"colorscale\":{\"sequential\":[[0.0,\"#0d0887\"],[0.1111111111111111,\"#46039f\"],[0.2222222222222222,\"#7201a8\"],[0.3333333333333333,\"#9c179e\"],[0.4444444444444444,\"#bd3786\"],[0.5555555555555556,\"#d8576b\"],[0.6666666666666666,\"#ed7953\"],[0.7777777777777778,\"#fb9f3a\"],[0.8888888888888888,\"#fdca26\"],[1.0,\"#f0f921\"]],\"sequentialminus\":[[0.0,\"#0d0887\"],[0.1111111111111111,\"#46039f\"],[0.2222222222222222,\"#7201a8\"],[0.3333333333333333,\"#9c179e\"],[0.4444444444444444,\"#bd3786\"],[0.5555555555555556,\"#d8576b\"],[0.6666666666666666,\"#ed7953\"],[0.7777777777777778,\"#fb9f3a\"],[0.8888888888888888,\"#fdca26\"],[1.0,\"#f0f921\"]],\"diverging\":[[0,\"#8e0152\"],[0.1,\"#c51b7d\"],[0.2,\"#de77ae\"],[0.3,\"#f1b6da\"],[0.4,\"#fde0ef\"],[0.5,\"#f7f7f7\"],[0.6,\"#e6f5d0\"],[0.7,\"#b8e186\"],[0.8,\"#7fbc41\"],[0.9,\"#4d9221\"],[1,\"#276419\"]]},\"xaxis\":{\"gridcolor\":\"white\",\"linecolor\":\"white\",\"ticks\":\"\",\"title\":{\"standoff\":15},\"zerolinecolor\":\"white\",\"automargin\":true,\"zerolinewidth\":2},\"yaxis\":{\"gridcolor\":\"white\",\"linecolor\":\"white\",\"ticks\":\"\",\"title\":{\"standoff\":15},\"zerolinecolor\":\"white\",\"automargin\":true,\"zerolinewidth\":2},\"scene\":{\"xaxis\":{\"backgroundcolor\":\"#E5ECF6\",\"gridcolor\":\"white\",\"linecolor\":\"white\",\"showbackground\":true,\"ticks\":\"\",\"zerolinecolor\":\"white\",\"gridwidth\":2},\"yaxis\":{\"backgroundcolor\":\"#E5ECF6\",\"gridcolor\":\"white\",\"linecolor\":\"white\",\"showbackground\":true,\"ticks\":\"\",\"zerolinecolor\":\"white\",\"gridwidth\":2},\"zaxis\":{\"backgroundcolor\":\"#E5ECF6\",\"gridcolor\":\"white\",\"linecolor\":\"white\",\"showbackground\":true,\"ticks\":\"\",\"zerolinecolor\":\"white\",\"gridwidth\":2}},\"shapedefaults\":{\"line\":{\"color\":\"#2a3f5f\"}},\"annotationdefaults\":{\"arrowcolor\":\"#2a3f5f\",\"arrowhead\":0,\"arrowwidth\":1},\"geo\":{\"bgcolor\":\"white\",\"landcolor\":\"#E5ECF6\",\"subunitcolor\":\"white\",\"showland\":true,\"showlakes\":true,\"lakecolor\":\"white\"},\"title\":{\"x\":0.05},\"mapbox\":{\"style\":\"light\"}}},\"scene\":{\"domain\":{\"x\":[0.0,1.0],\"y\":[0.0,1.0]},\"xaxis\":{\"title\":{\"text\":\"X-axis\"}},\"yaxis\":{\"title\":{\"text\":\"Y-axis\"}},\"zaxis\":{\"title\":{\"text\":\"Z-axis\"}}},\"coloraxis\":{\"colorbar\":{\"title\":{\"text\":\"Z-axis\"}},\"colorscale\":[[0.0,\"#0d0887\"],[0.1111111111111111,\"#46039f\"],[0.2222222222222222,\"#7201a8\"],[0.3333333333333333,\"#9c179e\"],[0.4444444444444444,\"#bd3786\"],[0.5555555555555556,\"#d8576b\"],[0.6666666666666666,\"#ed7953\"],[0.7777777777777778,\"#fb9f3a\"],[0.8888888888888888,\"#fdca26\"],[1.0,\"#f0f921\"]]},\"legend\":{\"tracegroupgap\":0},\"title\":{\"text\":\"3D Scatter Plot Example\"}},                        {\"responsive\": true}                    ).then(function(){\n",
              "                            \n",
              "var gd = document.getElementById('718b0ce1-dcb2-4bda-84b5-26fc21ea2595');\n",
              "var x = new MutationObserver(function (mutations, observer) {{\n",
              "        var display = window.getComputedStyle(gd).display;\n",
              "        if (!display || display === 'none') {{\n",
              "            console.log([gd, 'removed!']);\n",
              "            Plotly.purge(gd);\n",
              "            observer.disconnect();\n",
              "        }}\n",
              "}});\n",
              "\n",
              "// Listen for the removal of the full notebook cells\n",
              "var notebookContainer = gd.closest('#notebook-container');\n",
              "if (notebookContainer) {{\n",
              "    x.observe(notebookContainer, {childList: true});\n",
              "}}\n",
              "\n",
              "// Listen for the clearing of the current output cell\n",
              "var outputEl = gd.closest('.output');\n",
              "if (outputEl) {{\n",
              "    x.observe(outputEl, {childList: true});\n",
              "}}\n",
              "\n",
              "                        })                };                            </script>        </div>\n",
              "</body>\n",
              "</html>"
            ]
          },
          "metadata": {}
        }
      ]
    }
  ]
}